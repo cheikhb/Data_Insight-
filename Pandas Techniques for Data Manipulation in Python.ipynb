{
 "cells": [
  {
   "cell_type": "code",
   "metadata": {
    "tags": [],
    "cell_id": "8e096c57-21c0-41dd-99d7-75be762c8284",
    "deepnote_to_be_reexecuted": false,
    "source_hash": "dbb35900",
    "execution_start": 1654688660914,
    "execution_millis": 1,
    "deepnote_cell_type": "code",
    "deepnote_cell_height": 189
   },
   "source": "# Start writing code here...\nimport pandas as pd\nimport numpy as np\nimport sys\n\n\n",
   "execution_count": 1,
   "outputs": []
  },
  {
   "cell_type": "markdown",
   "source": "## Sorting Dataframe in Python",
   "metadata": {
    "cell_id": "4d2e950d0cb2419cb178d4d15a7ea6e3",
    "tags": [],
    "deepnote_cell_type": "markdown",
    "deepnote_cell_height": 70
   }
  },
  {
   "cell_type": "code",
   "metadata": {
    "cell_id": "c482005720994887b9e344fc9c046963",
    "tags": [],
    "deepnote_to_be_reexecuted": false,
    "source_hash": "a0fe7c7b",
    "execution_start": 1654688660915,
    "execution_millis": 693,
    "deepnote_cell_type": "code",
    "deepnote_cell_height": 430
   },
   "source": "df = pd.read_csv(\"https://raw.githubusercontent.com/cheikhb/Datasets/main/cars.csv\")\ndf.head()",
   "execution_count": 2,
   "outputs": [
    {
     "output_type": "execute_result",
     "execution_count": 2,
     "data": {
      "application/vnd.deepnote.dataframe.v3+json": {
       "column_count": 16,
       "row_count": 5,
       "columns": [
        {
         "name": "Make",
         "dtype": "object",
         "stats": {
          "unique_count": 1,
          "nan_count": 0,
          "categories": [
           {
            "name": "BMW",
            "count": 5
           }
          ]
         }
        },
        {
         "name": "Model",
         "dtype": "object",
         "stats": {
          "unique_count": 2,
          "nan_count": 0,
          "categories": [
           {
            "name": "1 Series",
            "count": 4
           },
           {
            "name": "1 Series M",
            "count": 1
           }
          ]
         }
        },
        {
         "name": "Year",
         "dtype": "int64",
         "stats": {
          "unique_count": 1,
          "nan_count": 0,
          "min": "2011",
          "max": "2011",
          "histogram": [
           {
            "bin_start": 2010.5,
            "bin_end": 2010.6,
            "count": 0
           },
           {
            "bin_start": 2010.6,
            "bin_end": 2010.7,
            "count": 0
           },
           {
            "bin_start": 2010.7,
            "bin_end": 2010.8,
            "count": 0
           },
           {
            "bin_start": 2010.8,
            "bin_end": 2010.9,
            "count": 0
           },
           {
            "bin_start": 2010.9,
            "bin_end": 2011,
            "count": 0
           },
           {
            "bin_start": 2011,
            "bin_end": 2011.1,
            "count": 5
           },
           {
            "bin_start": 2011.1,
            "bin_end": 2011.2,
            "count": 0
           },
           {
            "bin_start": 2011.2,
            "bin_end": 2011.3,
            "count": 0
           },
           {
            "bin_start": 2011.3,
            "bin_end": 2011.4,
            "count": 0
           },
           {
            "bin_start": 2011.4,
            "bin_end": 2011.5,
            "count": 0
           }
          ]
         }
        },
        {
         "name": "Engine Fuel Type",
         "dtype": "object",
         "stats": {
          "unique_count": 1,
          "nan_count": 0,
          "categories": [
           {
            "name": "premium unleaded (required)",
            "count": 5
           }
          ]
         }
        },
        {
         "name": "Engine HP",
         "dtype": "float64",
         "stats": {
          "unique_count": 3,
          "nan_count": 0,
          "min": "230.0",
          "max": "335.0",
          "histogram": [
           {
            "bin_start": 230,
            "bin_end": 240.5,
            "count": 2
           },
           {
            "bin_start": 240.5,
            "bin_end": 251,
            "count": 0
           },
           {
            "bin_start": 251,
            "bin_end": 261.5,
            "count": 0
           },
           {
            "bin_start": 261.5,
            "bin_end": 272,
            "count": 0
           },
           {
            "bin_start": 272,
            "bin_end": 282.5,
            "count": 0
           },
           {
            "bin_start": 282.5,
            "bin_end": 293,
            "count": 0
           },
           {
            "bin_start": 293,
            "bin_end": 303.5,
            "count": 2
           },
           {
            "bin_start": 303.5,
            "bin_end": 314,
            "count": 0
           },
           {
            "bin_start": 314,
            "bin_end": 324.5,
            "count": 0
           },
           {
            "bin_start": 324.5,
            "bin_end": 335,
            "count": 1
           }
          ]
         }
        },
        {
         "name": "Engine Cylinders",
         "dtype": "float64",
         "stats": {
          "unique_count": 1,
          "nan_count": 0,
          "min": "6.0",
          "max": "6.0",
          "histogram": [
           {
            "bin_start": 5.5,
            "bin_end": 5.6,
            "count": 0
           },
           {
            "bin_start": 5.6,
            "bin_end": 5.7,
            "count": 0
           },
           {
            "bin_start": 5.7,
            "bin_end": 5.8,
            "count": 0
           },
           {
            "bin_start": 5.8,
            "bin_end": 5.9,
            "count": 0
           },
           {
            "bin_start": 5.9,
            "bin_end": 6,
            "count": 0
           },
           {
            "bin_start": 6,
            "bin_end": 6.1,
            "count": 5
           },
           {
            "bin_start": 6.1,
            "bin_end": 6.2,
            "count": 0
           },
           {
            "bin_start": 6.2,
            "bin_end": 6.3,
            "count": 0
           },
           {
            "bin_start": 6.3,
            "bin_end": 6.4,
            "count": 0
           },
           {
            "bin_start": 6.4,
            "bin_end": 6.5,
            "count": 0
           }
          ]
         }
        },
        {
         "name": "Transmission Type",
         "dtype": "object",
         "stats": {
          "unique_count": 1,
          "nan_count": 0,
          "categories": [
           {
            "name": "MANUAL",
            "count": 5
           }
          ]
         }
        },
        {
         "name": "Driven_Wheels",
         "dtype": "object",
         "stats": {
          "unique_count": 1,
          "nan_count": 0,
          "categories": [
           {
            "name": "rear wheel drive",
            "count": 5
           }
          ]
         }
        },
        {
         "name": "Number of Doors",
         "dtype": "float64",
         "stats": {
          "unique_count": 1,
          "nan_count": 0,
          "min": "2.0",
          "max": "2.0",
          "histogram": [
           {
            "bin_start": 1.5,
            "bin_end": 1.6,
            "count": 0
           },
           {
            "bin_start": 1.6,
            "bin_end": 1.7,
            "count": 0
           },
           {
            "bin_start": 1.7,
            "bin_end": 1.8,
            "count": 0
           },
           {
            "bin_start": 1.8,
            "bin_end": 1.9,
            "count": 0
           },
           {
            "bin_start": 1.9,
            "bin_end": 2,
            "count": 0
           },
           {
            "bin_start": 2,
            "bin_end": 2.1,
            "count": 5
           },
           {
            "bin_start": 2.1,
            "bin_end": 2.2,
            "count": 0
           },
           {
            "bin_start": 2.2,
            "bin_end": 2.3,
            "count": 0
           },
           {
            "bin_start": 2.3,
            "bin_end": 2.4,
            "count": 0
           },
           {
            "bin_start": 2.4,
            "bin_end": 2.5,
            "count": 0
           }
          ]
         }
        },
        {
         "name": "Market Category",
         "dtype": "object",
         "stats": {
          "unique_count": 4,
          "nan_count": 0,
          "categories": [
           {
            "name": "Luxury,Performance",
            "count": 2
           },
           {
            "name": "Factory Tuner,Luxury,High-Performance",
            "count": 1
           },
           {
            "name": "2 others",
            "count": 2
           }
          ]
         }
        },
        {
         "name": "Vehicle Size",
         "dtype": "object",
         "stats": {
          "unique_count": 1,
          "nan_count": 0,
          "categories": [
           {
            "name": "Compact",
            "count": 5
           }
          ]
         }
        },
        {
         "name": "Vehicle Style",
         "dtype": "object",
         "stats": {
          "unique_count": 2,
          "nan_count": 0,
          "categories": [
           {
            "name": "Coupe",
            "count": 3
           },
           {
            "name": "Convertible",
            "count": 2
           }
          ]
         }
        },
        {
         "name": "highway MPG",
         "dtype": "int64",
         "stats": {
          "unique_count": 2,
          "nan_count": 0,
          "min": "26",
          "max": "28",
          "histogram": [
           {
            "bin_start": 26,
            "bin_end": 26.2,
            "count": 1
           },
           {
            "bin_start": 26.2,
            "bin_end": 26.4,
            "count": 0
           },
           {
            "bin_start": 26.4,
            "bin_end": 26.6,
            "count": 0
           },
           {
            "bin_start": 26.6,
            "bin_end": 26.8,
            "count": 0
           },
           {
            "bin_start": 26.8,
            "bin_end": 27,
            "count": 0
           },
           {
            "bin_start": 27,
            "bin_end": 27.2,
            "count": 0
           },
           {
            "bin_start": 27.2,
            "bin_end": 27.4,
            "count": 0
           },
           {
            "bin_start": 27.4,
            "bin_end": 27.6,
            "count": 0
           },
           {
            "bin_start": 27.6,
            "bin_end": 27.8,
            "count": 0
           },
           {
            "bin_start": 27.8,
            "bin_end": 28,
            "count": 4
           }
          ]
         }
        },
        {
         "name": "city mpg",
         "dtype": "int64",
         "stats": {
          "unique_count": 3,
          "nan_count": 0,
          "min": "18",
          "max": "20",
          "histogram": [
           {
            "bin_start": 18,
            "bin_end": 18.2,
            "count": 2
           },
           {
            "bin_start": 18.2,
            "bin_end": 18.4,
            "count": 0
           },
           {
            "bin_start": 18.4,
            "bin_end": 18.6,
            "count": 0
           },
           {
            "bin_start": 18.6,
            "bin_end": 18.8,
            "count": 0
           },
           {
            "bin_start": 18.8,
            "bin_end": 19,
            "count": 0
           },
           {
            "bin_start": 19,
            "bin_end": 19.2,
            "count": 2
           },
           {
            "bin_start": 19.2,
            "bin_end": 19.4,
            "count": 0
           },
           {
            "bin_start": 19.4,
            "bin_end": 19.6,
            "count": 0
           },
           {
            "bin_start": 19.6,
            "bin_end": 19.8,
            "count": 0
           },
           {
            "bin_start": 19.8,
            "bin_end": 20,
            "count": 1
           }
          ]
         }
        },
        {
         "name": "Popularity",
         "dtype": "int64",
         "stats": {
          "unique_count": 1,
          "nan_count": 0,
          "min": "3916",
          "max": "3916",
          "histogram": [
           {
            "bin_start": 3915.5,
            "bin_end": 3915.6,
            "count": 0
           },
           {
            "bin_start": 3915.6,
            "bin_end": 3915.7,
            "count": 0
           },
           {
            "bin_start": 3915.7,
            "bin_end": 3915.8,
            "count": 0
           },
           {
            "bin_start": 3915.8,
            "bin_end": 3915.9,
            "count": 0
           },
           {
            "bin_start": 3915.9,
            "bin_end": 3916,
            "count": 0
           },
           {
            "bin_start": 3916,
            "bin_end": 3916.1,
            "count": 5
           },
           {
            "bin_start": 3916.1,
            "bin_end": 3916.2,
            "count": 0
           },
           {
            "bin_start": 3916.2,
            "bin_end": 3916.3,
            "count": 0
           },
           {
            "bin_start": 3916.3,
            "bin_end": 3916.4,
            "count": 0
           },
           {
            "bin_start": 3916.4,
            "bin_end": 3916.5,
            "count": 0
           }
          ]
         }
        },
        {
         "name": "MSRP",
         "dtype": "int64",
         "stats": {
          "unique_count": 5,
          "nan_count": 0,
          "min": "29450",
          "max": "46135",
          "histogram": [
           {
            "bin_start": 29450,
            "bin_end": 31118.5,
            "count": 1
           },
           {
            "bin_start": 31118.5,
            "bin_end": 32787,
            "count": 0
           },
           {
            "bin_start": 32787,
            "bin_end": 34455.5,
            "count": 0
           },
           {
            "bin_start": 34455.5,
            "bin_end": 36124,
            "count": 1
           },
           {
            "bin_start": 36124,
            "bin_end": 37792.5,
            "count": 1
           },
           {
            "bin_start": 37792.5,
            "bin_end": 39461,
            "count": 0
           },
           {
            "bin_start": 39461,
            "bin_end": 41129.5,
            "count": 1
           },
           {
            "bin_start": 41129.5,
            "bin_end": 42798,
            "count": 0
           },
           {
            "bin_start": 42798,
            "bin_end": 44466.5,
            "count": 0
           },
           {
            "bin_start": 44466.5,
            "bin_end": 46135,
            "count": 1
           }
          ]
         }
        },
        {
         "name": "_deepnote_index_column",
         "dtype": "int64"
        }
       ],
       "rows": [
        {
         "Make": "BMW",
         "Model": "1 Series M",
         "Year": 2011,
         "Engine Fuel Type": "premium unleaded (required)",
         "Engine HP": 335,
         "Engine Cylinders": 6,
         "Transmission Type": "MANUAL",
         "Driven_Wheels": "rear wheel drive",
         "Number of Doors": 2,
         "Market Category": "Factory Tuner,Luxury,High-Performance",
         "Vehicle Size": "Compact",
         "Vehicle Style": "Coupe",
         "highway MPG": 26,
         "city mpg": 19,
         "Popularity": 3916,
         "MSRP": 46135,
         "_deepnote_index_column": 0
        },
        {
         "Make": "BMW",
         "Model": "1 Series",
         "Year": 2011,
         "Engine Fuel Type": "premium unleaded (required)",
         "Engine HP": 300,
         "Engine Cylinders": 6,
         "Transmission Type": "MANUAL",
         "Driven_Wheels": "rear wheel drive",
         "Number of Doors": 2,
         "Market Category": "Luxury,Performance",
         "Vehicle Size": "Compact",
         "Vehicle Style": "Convertible",
         "highway MPG": 28,
         "city mpg": 19,
         "Popularity": 3916,
         "MSRP": 40650,
         "_deepnote_index_column": 1
        },
        {
         "Make": "BMW",
         "Model": "1 Series",
         "Year": 2011,
         "Engine Fuel Type": "premium unleaded (required)",
         "Engine HP": 300,
         "Engine Cylinders": 6,
         "Transmission Type": "MANUAL",
         "Driven_Wheels": "rear wheel drive",
         "Number of Doors": 2,
         "Market Category": "Luxury,High-Performance",
         "Vehicle Size": "Compact",
         "Vehicle Style": "Coupe",
         "highway MPG": 28,
         "city mpg": 20,
         "Popularity": 3916,
         "MSRP": 36350,
         "_deepnote_index_column": 2
        },
        {
         "Make": "BMW",
         "Model": "1 Series",
         "Year": 2011,
         "Engine Fuel Type": "premium unleaded (required)",
         "Engine HP": 230,
         "Engine Cylinders": 6,
         "Transmission Type": "MANUAL",
         "Driven_Wheels": "rear wheel drive",
         "Number of Doors": 2,
         "Market Category": "Luxury,Performance",
         "Vehicle Size": "Compact",
         "Vehicle Style": "Coupe",
         "highway MPG": 28,
         "city mpg": 18,
         "Popularity": 3916,
         "MSRP": 29450,
         "_deepnote_index_column": 3
        },
        {
         "Make": "BMW",
         "Model": "1 Series",
         "Year": 2011,
         "Engine Fuel Type": "premium unleaded (required)",
         "Engine HP": 230,
         "Engine Cylinders": 6,
         "Transmission Type": "MANUAL",
         "Driven_Wheels": "rear wheel drive",
         "Number of Doors": 2,
         "Market Category": "Luxury",
         "Vehicle Size": "Compact",
         "Vehicle Style": "Convertible",
         "highway MPG": 28,
         "city mpg": 18,
         "Popularity": 3916,
         "MSRP": 34500,
         "_deepnote_index_column": 4
        }
       ]
      },
      "text/plain": "  Make       Model  Year             Engine Fuel Type  Engine HP  \\\n0  BMW  1 Series M  2011  premium unleaded (required)      335.0   \n1  BMW    1 Series  2011  premium unleaded (required)      300.0   \n2  BMW    1 Series  2011  premium unleaded (required)      300.0   \n3  BMW    1 Series  2011  premium unleaded (required)      230.0   \n4  BMW    1 Series  2011  premium unleaded (required)      230.0   \n\n   Engine Cylinders Transmission Type     Driven_Wheels  Number of Doors  \\\n0               6.0            MANUAL  rear wheel drive              2.0   \n1               6.0            MANUAL  rear wheel drive              2.0   \n2               6.0            MANUAL  rear wheel drive              2.0   \n3               6.0            MANUAL  rear wheel drive              2.0   \n4               6.0            MANUAL  rear wheel drive              2.0   \n\n                         Market Category Vehicle Size Vehicle Style  \\\n0  Factory Tuner,Luxury,High-Performance      Compact         Coupe   \n1                     Luxury,Performance      Compact   Convertible   \n2                Luxury,High-Performance      Compact         Coupe   \n3                     Luxury,Performance      Compact         Coupe   \n4                                 Luxury      Compact   Convertible   \n\n   highway MPG  city mpg  Popularity   MSRP  \n0           26        19        3916  46135  \n1           28        19        3916  40650  \n2           28        20        3916  36350  \n3           28        18        3916  29450  \n4           28        18        3916  34500  ",
      "text/html": "<div>\n<style scoped>\n    .dataframe tbody tr th:only-of-type {\n        vertical-align: middle;\n    }\n\n    .dataframe tbody tr th {\n        vertical-align: top;\n    }\n\n    .dataframe thead th {\n        text-align: right;\n    }\n</style>\n<table border=\"1\" class=\"dataframe\">\n  <thead>\n    <tr style=\"text-align: right;\">\n      <th></th>\n      <th>Make</th>\n      <th>Model</th>\n      <th>Year</th>\n      <th>Engine Fuel Type</th>\n      <th>Engine HP</th>\n      <th>Engine Cylinders</th>\n      <th>Transmission Type</th>\n      <th>Driven_Wheels</th>\n      <th>Number of Doors</th>\n      <th>Market Category</th>\n      <th>Vehicle Size</th>\n      <th>Vehicle Style</th>\n      <th>highway MPG</th>\n      <th>city mpg</th>\n      <th>Popularity</th>\n      <th>MSRP</th>\n    </tr>\n  </thead>\n  <tbody>\n    <tr>\n      <th>0</th>\n      <td>BMW</td>\n      <td>1 Series M</td>\n      <td>2011</td>\n      <td>premium unleaded (required)</td>\n      <td>335.0</td>\n      <td>6.0</td>\n      <td>MANUAL</td>\n      <td>rear wheel drive</td>\n      <td>2.0</td>\n      <td>Factory Tuner,Luxury,High-Performance</td>\n      <td>Compact</td>\n      <td>Coupe</td>\n      <td>26</td>\n      <td>19</td>\n      <td>3916</td>\n      <td>46135</td>\n    </tr>\n    <tr>\n      <th>1</th>\n      <td>BMW</td>\n      <td>1 Series</td>\n      <td>2011</td>\n      <td>premium unleaded (required)</td>\n      <td>300.0</td>\n      <td>6.0</td>\n      <td>MANUAL</td>\n      <td>rear wheel drive</td>\n      <td>2.0</td>\n      <td>Luxury,Performance</td>\n      <td>Compact</td>\n      <td>Convertible</td>\n      <td>28</td>\n      <td>19</td>\n      <td>3916</td>\n      <td>40650</td>\n    </tr>\n    <tr>\n      <th>2</th>\n      <td>BMW</td>\n      <td>1 Series</td>\n      <td>2011</td>\n      <td>premium unleaded (required)</td>\n      <td>300.0</td>\n      <td>6.0</td>\n      <td>MANUAL</td>\n      <td>rear wheel drive</td>\n      <td>2.0</td>\n      <td>Luxury,High-Performance</td>\n      <td>Compact</td>\n      <td>Coupe</td>\n      <td>28</td>\n      <td>20</td>\n      <td>3916</td>\n      <td>36350</td>\n    </tr>\n    <tr>\n      <th>3</th>\n      <td>BMW</td>\n      <td>1 Series</td>\n      <td>2011</td>\n      <td>premium unleaded (required)</td>\n      <td>230.0</td>\n      <td>6.0</td>\n      <td>MANUAL</td>\n      <td>rear wheel drive</td>\n      <td>2.0</td>\n      <td>Luxury,Performance</td>\n      <td>Compact</td>\n      <td>Coupe</td>\n      <td>28</td>\n      <td>18</td>\n      <td>3916</td>\n      <td>29450</td>\n    </tr>\n    <tr>\n      <th>4</th>\n      <td>BMW</td>\n      <td>1 Series</td>\n      <td>2011</td>\n      <td>premium unleaded (required)</td>\n      <td>230.0</td>\n      <td>6.0</td>\n      <td>MANUAL</td>\n      <td>rear wheel drive</td>\n      <td>2.0</td>\n      <td>Luxury</td>\n      <td>Compact</td>\n      <td>Convertible</td>\n      <td>28</td>\n      <td>18</td>\n      <td>3916</td>\n      <td>34500</td>\n    </tr>\n  </tbody>\n</table>\n</div>"
     },
     "metadata": {}
    }
   ]
  },
  {
   "cell_type": "markdown",
   "source": "## Sorting by values: .sort_values()",
   "metadata": {
    "formattedRanges": [],
    "cell_id": "0d85863cc5544525ac26dc70219c2852",
    "tags": [],
    "is_collapsed": false,
    "deepnote_cell_type": "text-cell-h2"
   }
  },
  {
   "cell_type": "markdown",
   "source": "In&nbsp;pandas&nbsp;we&nbsp;can&nbsp;sort&nbsp;by&nbsp;values&nbsp;or&nbsp;by&nbsp;index.",
   "metadata": {
    "formattedRanges": [],
    "cell_id": "c9a1f93d03d249eabb67ac700b4273f5",
    "tags": [],
    "is_collapsed": false,
    "deepnote_cell_type": "text-cell-p"
   }
  },
  {
   "cell_type": "markdown",
   "source": "## .sort_values()",
   "metadata": {
    "formattedRanges": [],
    "cell_id": "51de0aba236b4735a3066334207ea194",
    "tags": [],
    "is_collapsed": false,
    "deepnote_cell_type": "text-cell-h2"
   }
  },
  {
   "cell_type": "code",
   "metadata": {
    "cell_id": "7672d4344be4424b9590290fccab3912",
    "tags": [],
    "deepnote_to_be_reexecuted": false,
    "source_hash": "10444539",
    "execution_start": 1654688661194,
    "execution_millis": 415,
    "deepnote_cell_type": "code",
    "deepnote_cell_height": 652.796875
   },
   "source": "df.sort_values(\n    by='Year'\n    )",
   "execution_count": 3,
   "outputs": [
    {
     "output_type": "execute_result",
     "execution_count": 3,
     "data": {
      "application/vnd.deepnote.dataframe.v3+json": {
       "column_count": 16,
       "row_count": 11914,
       "columns": [
        {
         "name": "Make",
         "dtype": "object",
         "stats": {
          "unique_count": 48,
          "nan_count": 0,
          "categories": [
           {
            "name": "Chevrolet",
            "count": 1123
           },
           {
            "name": "Ford",
            "count": 881
           },
           {
            "name": "46 others",
            "count": 9910
           }
          ]
         }
        },
        {
         "name": "Model",
         "dtype": "object",
         "stats": {
          "unique_count": 915,
          "nan_count": 0,
          "categories": [
           {
            "name": "Silverado 1500",
            "count": 156
           },
           {
            "name": "Tundra",
            "count": 140
           },
           {
            "name": "913 others",
            "count": 11618
           }
          ]
         }
        },
        {
         "name": "Year",
         "dtype": "int64",
         "stats": {
          "unique_count": 28,
          "nan_count": 0,
          "min": "1990",
          "max": "2017",
          "histogram": [
           {
            "bin_start": 1990,
            "bin_end": 1992.7,
            "count": 452
           },
           {
            "bin_start": 1992.7,
            "bin_end": 1995.4,
            "count": 507
           },
           {
            "bin_start": 1995.4,
            "bin_end": 1998.1,
            "count": 460
           },
           {
            "bin_start": 1998.1,
            "bin_end": 2000.8,
            "count": 238
           },
           {
            "bin_start": 2000.8,
            "bin_end": 2003.5,
            "count": 611
           },
           {
            "bin_start": 2003.5,
            "bin_end": 2006.2,
            "count": 653
           },
           {
            "bin_start": 2006.2,
            "bin_end": 2008.9,
            "count": 694
           },
           {
            "bin_start": 2008.9,
            "bin_end": 2011.6,
            "count": 962
           },
           {
            "bin_start": 2011.6,
            "bin_end": 2014.3,
            "count": 1342
           },
           {
            "bin_start": 2014.3,
            "bin_end": 2017,
            "count": 5995
           }
          ]
         }
        },
        {
         "name": "Engine Fuel Type",
         "dtype": "object",
         "stats": {
          "unique_count": 10,
          "nan_count": 3,
          "categories": [
           {
            "name": "regular unleaded",
            "count": 7172
           },
           {
            "name": "9 others",
            "count": 4739
           },
           {
            "name": "Missing",
            "count": 3
           }
          ]
         }
        },
        {
         "name": "Engine HP",
         "dtype": "float64",
         "stats": {
          "unique_count": 356,
          "nan_count": 69,
          "min": "55.0",
          "max": "1001.0",
          "histogram": [
           {
            "bin_start": 55,
            "bin_end": 149.6,
            "count": 1695
           },
           {
            "bin_start": 149.6,
            "bin_end": 244.2,
            "count": 4834
           },
           {
            "bin_start": 244.2,
            "bin_end": 338.79999999999995,
            "count": 3489
           },
           {
            "bin_start": 338.79999999999995,
            "bin_end": 433.4,
            "count": 1057
           },
           {
            "bin_start": 433.4,
            "bin_end": 528,
            "count": 407
           },
           {
            "bin_start": 528,
            "bin_end": 622.5999999999999,
            "count": 266
           },
           {
            "bin_start": 622.5999999999999,
            "bin_end": 717.1999999999999,
            "count": 85
           },
           {
            "bin_start": 717.1999999999999,
            "bin_end": 811.8,
            "count": 9
           },
           {
            "bin_start": 811.8,
            "bin_end": 906.4,
            "count": 0
           },
           {
            "bin_start": 906.4,
            "bin_end": 1001,
            "count": 3
           }
          ]
         }
        },
        {
         "name": "Engine Cylinders",
         "dtype": "float64",
         "stats": {
          "unique_count": 9,
          "nan_count": 30,
          "min": "0.0",
          "max": "16.0",
          "histogram": [
           {
            "bin_start": 0,
            "bin_end": 1.6,
            "count": 56
           },
           {
            "bin_start": 1.6,
            "bin_end": 3.2,
            "count": 30
           },
           {
            "bin_start": 3.2,
            "bin_end": 4.800000000000001,
            "count": 4752
           },
           {
            "bin_start": 4.800000000000001,
            "bin_end": 6.4,
            "count": 4714
           },
           {
            "bin_start": 6.4,
            "bin_end": 8,
            "count": 0
           },
           {
            "bin_start": 8,
            "bin_end": 9.600000000000001,
            "count": 2031
           },
           {
            "bin_start": 9.600000000000001,
            "bin_end": 11.200000000000001,
            "count": 68
           },
           {
            "bin_start": 11.200000000000001,
            "bin_end": 12.8,
            "count": 230
           },
           {
            "bin_start": 12.8,
            "bin_end": 14.4,
            "count": 0
           },
           {
            "bin_start": 14.4,
            "bin_end": 16,
            "count": 3
           }
          ]
         }
        },
        {
         "name": "Transmission Type",
         "dtype": "object",
         "stats": {
          "unique_count": 5,
          "nan_count": 0,
          "categories": [
           {
            "name": "AUTOMATIC",
            "count": 8266
           },
           {
            "name": "MANUAL",
            "count": 2935
           },
           {
            "name": "3 others",
            "count": 713
           }
          ]
         }
        },
        {
         "name": "Driven_Wheels",
         "dtype": "object",
         "stats": {
          "unique_count": 4,
          "nan_count": 0,
          "categories": [
           {
            "name": "front wheel drive",
            "count": 4787
           },
           {
            "name": "rear wheel drive",
            "count": 3371
           },
           {
            "name": "2 others",
            "count": 3756
           }
          ]
         }
        },
        {
         "name": "Number of Doors",
         "dtype": "float64"
        },
        {
         "name": "Market Category",
         "dtype": "object"
        },
        {
         "name": "Vehicle Size",
         "dtype": "object"
        },
        {
         "name": "Vehicle Style",
         "dtype": "object"
        },
        {
         "name": "highway MPG",
         "dtype": "int64"
        },
        {
         "name": "city mpg",
         "dtype": "int64"
        },
        {
         "name": "Popularity",
         "dtype": "int64"
        },
        {
         "name": "MSRP",
         "dtype": "int64"
        },
        {
         "name": "_deepnote_index_column",
         "dtype": "int64"
        }
       ],
       "rows": [
        {
         "Make": "Mitsubishi",
         "Model": "Sigma",
         "Year": 1990,
         "Engine Fuel Type": "regular unleaded",
         "Engine HP": 142,
         "Engine Cylinders": 6,
         "Transmission Type": "AUTOMATIC",
         "Driven_Wheels": "front wheel drive",
         "Number of Doors": 4,
         "Market Category": "nan",
         "Vehicle Size": "Midsize",
         "Vehicle Style": "Sedan",
         "highway MPG": 20,
         "city mpg": 16,
         "Popularity": 436,
         "MSRP": 2000,
         "_deepnote_index_column": 9415
        },
        {
         "Make": "Ford",
         "Model": "LTD Crown Victoria",
         "Year": 1990,
         "Engine Fuel Type": "regular unleaded",
         "Engine HP": 150,
         "Engine Cylinders": 8,
         "Transmission Type": "AUTOMATIC",
         "Driven_Wheels": "rear wheel drive",
         "Number of Doors": 4,
         "Market Category": "nan",
         "Vehicle Size": "Large",
         "Vehicle Style": "Wagon",
         "highway MPG": 22,
         "city mpg": 15,
         "Popularity": 5657,
         "MSRP": 2000,
         "_deepnote_index_column": 6514
        },
        {
         "Make": "Ford",
         "Model": "LTD Crown Victoria",
         "Year": 1990,
         "Engine Fuel Type": "regular unleaded",
         "Engine HP": 150,
         "Engine Cylinders": 8,
         "Transmission Type": "AUTOMATIC",
         "Driven_Wheels": "rear wheel drive",
         "Number of Doors": 4,
         "Market Category": "nan",
         "Vehicle Size": "Large",
         "Vehicle Style": "Wagon",
         "highway MPG": 22,
         "city mpg": 15,
         "Popularity": 5657,
         "MSRP": 2000,
         "_deepnote_index_column": 6515
        },
        {
         "Make": "Ford",
         "Model": "LTD Crown Victoria",
         "Year": 1990,
         "Engine Fuel Type": "regular unleaded",
         "Engine HP": 150,
         "Engine Cylinders": 8,
         "Transmission Type": "AUTOMATIC",
         "Driven_Wheels": "rear wheel drive",
         "Number of Doors": 4,
         "Market Category": "nan",
         "Vehicle Size": "Large",
         "Vehicle Style": "Wagon",
         "highway MPG": 22,
         "city mpg": 15,
         "Popularity": 5657,
         "MSRP": 2000,
         "_deepnote_index_column": 6516
        },
        {
         "Make": "Ford",
         "Model": "LTD Crown Victoria",
         "Year": 1990,
         "Engine Fuel Type": "regular unleaded",
         "Engine HP": 150,
         "Engine Cylinders": 8,
         "Transmission Type": "AUTOMATIC",
         "Driven_Wheels": "rear wheel drive",
         "Number of Doors": 4,
         "Market Category": "nan",
         "Vehicle Size": "Large",
         "Vehicle Style": "Sedan",
         "highway MPG": 22,
         "city mpg": 15,
         "Popularity": 5657,
         "MSRP": 2000,
         "_deepnote_index_column": 6517
        },
        {
         "Make": "Ford",
         "Model": "LTD Crown Victoria",
         "Year": 1990,
         "Engine Fuel Type": "regular unleaded",
         "Engine HP": 150,
         "Engine Cylinders": 8,
         "Transmission Type": "AUTOMATIC",
         "Driven_Wheels": "rear wheel drive",
         "Number of Doors": 4,
         "Market Category": "nan",
         "Vehicle Size": "Large",
         "Vehicle Style": "Wagon",
         "highway MPG": 22,
         "city mpg": 15,
         "Popularity": 5657,
         "MSRP": 2000,
         "_deepnote_index_column": 6518
        },
        {
         "Make": "Audi",
         "Model": "80",
         "Year": 1990,
         "Engine Fuel Type": "regular unleaded",
         "Engine HP": 130,
         "Engine Cylinders": 5,
         "Transmission Type": "MANUAL",
         "Driven_Wheels": "all wheel drive",
         "Number of Doors": 4,
         "Market Category": "Luxury",
         "Vehicle Size": "Compact",
         "Vehicle Style": "Sedan",
         "highway MPG": 22,
         "city mpg": 16,
         "Popularity": 3105,
         "MSRP": 2000,
         "_deepnote_index_column": 767
        },
        {
         "Make": "Audi",
         "Model": "80",
         "Year": 1990,
         "Engine Fuel Type": "regular unleaded",
         "Engine HP": 108,
         "Engine Cylinders": 4,
         "Transmission Type": "MANUAL",
         "Driven_Wheels": "front wheel drive",
         "Number of Doors": 4,
         "Market Category": "Luxury",
         "Vehicle Size": "Compact",
         "Vehicle Style": "Sedan",
         "highway MPG": 28,
         "city mpg": 19,
         "Popularity": 3105,
         "MSRP": 2000,
         "_deepnote_index_column": 766
        },
        {
         "Make": "Volvo",
         "Model": "780",
         "Year": 1990,
         "Engine Fuel Type": "regular unleaded",
         "Engine HP": 144,
         "Engine Cylinders": 6,
         "Transmission Type": "AUTOMATIC",
         "Driven_Wheels": "rear wheel drive",
         "Number of Doors": 2,
         "Market Category": "Luxury",
         "Vehicle Size": "Midsize",
         "Vehicle Style": "Coupe",
         "highway MPG": 19,
         "city mpg": 15,
         "Popularity": 870,
         "MSRP": 2000,
         "_deepnote_index_column": 758
        },
        {
         "Make": "Ford",
         "Model": "Bronco II",
         "Year": 1990,
         "Engine Fuel Type": "regular unleaded",
         "Engine HP": 140,
         "Engine Cylinders": 6,
         "Transmission Type": "MANUAL",
         "Driven_Wheels": "four wheel drive",
         "Number of Doors": 2,
         "Market Category": "nan",
         "Vehicle Size": "Compact",
         "Vehicle Style": "2dr SUV",
         "highway MPG": 20,
         "city mpg": 15,
         "Popularity": 5657,
         "MSRP": 2000,
         "_deepnote_index_column": 2026
        }
       ]
      },
      "text/plain": "            Make               Model  Year                Engine Fuel Type  \\\n9415  Mitsubishi               Sigma  1990                regular unleaded   \n6514        Ford  LTD Crown Victoria  1990                regular unleaded   \n6515        Ford  LTD Crown Victoria  1990                regular unleaded   \n6516        Ford  LTD Crown Victoria  1990                regular unleaded   \n6517        Ford  LTD Crown Victoria  1990                regular unleaded   \n...          ...                 ...   ...                             ...   \n6490       Lexus              LS 460  2017     premium unleaded (required)   \n6491       Lexus              LS 460  2017     premium unleaded (required)   \n6492       Lexus              LS 460  2017     premium unleaded (required)   \n6344  Mitsubishi              Lancer  2017                regular unleaded   \n7391  Mitsubishi           Outlander  2017  premium unleaded (recommended)   \n\n      Engine HP  Engine Cylinders Transmission Type      Driven_Wheels  \\\n9415      142.0               6.0         AUTOMATIC  front wheel drive   \n6514      150.0               8.0         AUTOMATIC   rear wheel drive   \n6515      150.0               8.0         AUTOMATIC   rear wheel drive   \n6516      150.0               8.0         AUTOMATIC   rear wheel drive   \n6517      150.0               8.0         AUTOMATIC   rear wheel drive   \n...         ...               ...               ...                ...   \n6490      386.0               8.0         AUTOMATIC   rear wheel drive   \n6491      386.0               8.0         AUTOMATIC   rear wheel drive   \n6492      359.0               8.0         AUTOMATIC    all wheel drive   \n6344      148.0               4.0         AUTOMATIC  front wheel drive   \n7391      224.0               6.0         AUTOMATIC    all wheel drive   \n\n      Number of Doors     Market Category Vehicle Size Vehicle Style  \\\n9415              4.0                 NaN      Midsize         Sedan   \n6514              4.0                 NaN        Large         Wagon   \n6515              4.0                 NaN        Large         Wagon   \n6516              4.0                 NaN        Large         Wagon   \n6517              4.0                 NaN        Large         Sedan   \n...               ...                 ...          ...           ...   \n6490              4.0  Luxury,Performance        Large         Sedan   \n6491              4.0  Luxury,Performance        Large         Sedan   \n6492              4.0  Luxury,Performance        Large         Sedan   \n6344              4.0                 NaN      Compact         Sedan   \n7391              4.0           Crossover      Midsize       4dr SUV   \n\n      highway MPG  city mpg  Popularity   MSRP  \n9415           20        16         436   2000  \n6514           22        15        5657   2000  \n6515           22        15        5657   2000  \n6516           22        15        5657   2000  \n6517           22        15        5657   2000  \n...           ...       ...         ...    ...  \n6490           24        16         454  72520  \n6491           24        16         454  78820  \n6492           23        16         454  75465  \n6344           34        27         436  18795  \n7391           27        20         436  31695  \n\n[11914 rows x 16 columns]",
      "text/html": "<div>\n<style scoped>\n    .dataframe tbody tr th:only-of-type {\n        vertical-align: middle;\n    }\n\n    .dataframe tbody tr th {\n        vertical-align: top;\n    }\n\n    .dataframe thead th {\n        text-align: right;\n    }\n</style>\n<table border=\"1\" class=\"dataframe\">\n  <thead>\n    <tr style=\"text-align: right;\">\n      <th></th>\n      <th>Make</th>\n      <th>Model</th>\n      <th>Year</th>\n      <th>Engine Fuel Type</th>\n      <th>Engine HP</th>\n      <th>Engine Cylinders</th>\n      <th>Transmission Type</th>\n      <th>Driven_Wheels</th>\n      <th>Number of Doors</th>\n      <th>Market Category</th>\n      <th>Vehicle Size</th>\n      <th>Vehicle Style</th>\n      <th>highway MPG</th>\n      <th>city mpg</th>\n      <th>Popularity</th>\n      <th>MSRP</th>\n    </tr>\n  </thead>\n  <tbody>\n    <tr>\n      <th>9415</th>\n      <td>Mitsubishi</td>\n      <td>Sigma</td>\n      <td>1990</td>\n      <td>regular unleaded</td>\n      <td>142.0</td>\n      <td>6.0</td>\n      <td>AUTOMATIC</td>\n      <td>front wheel drive</td>\n      <td>4.0</td>\n      <td>NaN</td>\n      <td>Midsize</td>\n      <td>Sedan</td>\n      <td>20</td>\n      <td>16</td>\n      <td>436</td>\n      <td>2000</td>\n    </tr>\n    <tr>\n      <th>6514</th>\n      <td>Ford</td>\n      <td>LTD Crown Victoria</td>\n      <td>1990</td>\n      <td>regular unleaded</td>\n      <td>150.0</td>\n      <td>8.0</td>\n      <td>AUTOMATIC</td>\n      <td>rear wheel drive</td>\n      <td>4.0</td>\n      <td>NaN</td>\n      <td>Large</td>\n      <td>Wagon</td>\n      <td>22</td>\n      <td>15</td>\n      <td>5657</td>\n      <td>2000</td>\n    </tr>\n    <tr>\n      <th>6515</th>\n      <td>Ford</td>\n      <td>LTD Crown Victoria</td>\n      <td>1990</td>\n      <td>regular unleaded</td>\n      <td>150.0</td>\n      <td>8.0</td>\n      <td>AUTOMATIC</td>\n      <td>rear wheel drive</td>\n      <td>4.0</td>\n      <td>NaN</td>\n      <td>Large</td>\n      <td>Wagon</td>\n      <td>22</td>\n      <td>15</td>\n      <td>5657</td>\n      <td>2000</td>\n    </tr>\n    <tr>\n      <th>6516</th>\n      <td>Ford</td>\n      <td>LTD Crown Victoria</td>\n      <td>1990</td>\n      <td>regular unleaded</td>\n      <td>150.0</td>\n      <td>8.0</td>\n      <td>AUTOMATIC</td>\n      <td>rear wheel drive</td>\n      <td>4.0</td>\n      <td>NaN</td>\n      <td>Large</td>\n      <td>Wagon</td>\n      <td>22</td>\n      <td>15</td>\n      <td>5657</td>\n      <td>2000</td>\n    </tr>\n    <tr>\n      <th>6517</th>\n      <td>Ford</td>\n      <td>LTD Crown Victoria</td>\n      <td>1990</td>\n      <td>regular unleaded</td>\n      <td>150.0</td>\n      <td>8.0</td>\n      <td>AUTOMATIC</td>\n      <td>rear wheel drive</td>\n      <td>4.0</td>\n      <td>NaN</td>\n      <td>Large</td>\n      <td>Sedan</td>\n      <td>22</td>\n      <td>15</td>\n      <td>5657</td>\n      <td>2000</td>\n    </tr>\n    <tr>\n      <th>...</th>\n      <td>...</td>\n      <td>...</td>\n      <td>...</td>\n      <td>...</td>\n      <td>...</td>\n      <td>...</td>\n      <td>...</td>\n      <td>...</td>\n      <td>...</td>\n      <td>...</td>\n      <td>...</td>\n      <td>...</td>\n      <td>...</td>\n      <td>...</td>\n      <td>...</td>\n      <td>...</td>\n    </tr>\n    <tr>\n      <th>6490</th>\n      <td>Lexus</td>\n      <td>LS 460</td>\n      <td>2017</td>\n      <td>premium unleaded (required)</td>\n      <td>386.0</td>\n      <td>8.0</td>\n      <td>AUTOMATIC</td>\n      <td>rear wheel drive</td>\n      <td>4.0</td>\n      <td>Luxury,Performance</td>\n      <td>Large</td>\n      <td>Sedan</td>\n      <td>24</td>\n      <td>16</td>\n      <td>454</td>\n      <td>72520</td>\n    </tr>\n    <tr>\n      <th>6491</th>\n      <td>Lexus</td>\n      <td>LS 460</td>\n      <td>2017</td>\n      <td>premium unleaded (required)</td>\n      <td>386.0</td>\n      <td>8.0</td>\n      <td>AUTOMATIC</td>\n      <td>rear wheel drive</td>\n      <td>4.0</td>\n      <td>Luxury,Performance</td>\n      <td>Large</td>\n      <td>Sedan</td>\n      <td>24</td>\n      <td>16</td>\n      <td>454</td>\n      <td>78820</td>\n    </tr>\n    <tr>\n      <th>6492</th>\n      <td>Lexus</td>\n      <td>LS 460</td>\n      <td>2017</td>\n      <td>premium unleaded (required)</td>\n      <td>359.0</td>\n      <td>8.0</td>\n      <td>AUTOMATIC</td>\n      <td>all wheel drive</td>\n      <td>4.0</td>\n      <td>Luxury,Performance</td>\n      <td>Large</td>\n      <td>Sedan</td>\n      <td>23</td>\n      <td>16</td>\n      <td>454</td>\n      <td>75465</td>\n    </tr>\n    <tr>\n      <th>6344</th>\n      <td>Mitsubishi</td>\n      <td>Lancer</td>\n      <td>2017</td>\n      <td>regular unleaded</td>\n      <td>148.0</td>\n      <td>4.0</td>\n      <td>AUTOMATIC</td>\n      <td>front wheel drive</td>\n      <td>4.0</td>\n      <td>NaN</td>\n      <td>Compact</td>\n      <td>Sedan</td>\n      <td>34</td>\n      <td>27</td>\n      <td>436</td>\n      <td>18795</td>\n    </tr>\n    <tr>\n      <th>7391</th>\n      <td>Mitsubishi</td>\n      <td>Outlander</td>\n      <td>2017</td>\n      <td>premium unleaded (recommended)</td>\n      <td>224.0</td>\n      <td>6.0</td>\n      <td>AUTOMATIC</td>\n      <td>all wheel drive</td>\n      <td>4.0</td>\n      <td>Crossover</td>\n      <td>Midsize</td>\n      <td>4dr SUV</td>\n      <td>27</td>\n      <td>20</td>\n      <td>436</td>\n      <td>31695</td>\n    </tr>\n  </tbody>\n</table>\n<p>11914 rows × 16 columns</p>\n</div>"
     },
     "metadata": {}
    }
   ]
  },
  {
   "cell_type": "markdown",
   "source": "## By default sorting by values will sort the Dataframe in ascending order. We can change this by adding ascending parameter.",
   "metadata": {
    "formattedRanges": [],
    "cell_id": "2af7689b58d24518bbd9a034d1e59e59",
    "tags": [],
    "is_collapsed": false,
    "deepnote_cell_type": "text-cell-h2"
   }
  },
  {
   "cell_type": "code",
   "metadata": {
    "cell_id": "6ef1b3a820304f45ab87b1e9154c2972",
    "deepnote_variable_name": "input_1",
    "deepnote_variable_value": "Setting ascending to false will sort the DataFrame in descending order. ",
    "deepnote_to_be_reexecuted": false,
    "source_hash": "82d7c8c",
    "execution_start": 1654688661373,
    "execution_millis": 11409052,
    "deepnote_cell_type": "input-text"
   },
   "source": "input_1 = 'Setting ascending to false will sort the DataFrame in descending order. '",
   "execution_count": 4,
   "outputs": []
  },
  {
   "cell_type": "code",
   "metadata": {
    "cell_id": "dc411c0e03de4d679e8a2984561786f2",
    "tags": [],
    "deepnote_to_be_reexecuted": false,
    "source_hash": "1a6674ec",
    "execution_start": 1654688661374,
    "execution_millis": 237,
    "deepnote_cell_type": "code",
    "deepnote_cell_height": 670.796875
   },
   "source": "df.sort_values(\n    by='Year',\n    ascending=False\n    )",
   "execution_count": 5,
   "outputs": [
    {
     "output_type": "execute_result",
     "execution_count": 5,
     "data": {
      "application/vnd.deepnote.dataframe.v3+json": {
       "column_count": 16,
       "row_count": 11914,
       "columns": [
        {
         "name": "Make",
         "dtype": "object",
         "stats": {
          "unique_count": 48,
          "nan_count": 0,
          "categories": [
           {
            "name": "Chevrolet",
            "count": 1123
           },
           {
            "name": "Ford",
            "count": 881
           },
           {
            "name": "46 others",
            "count": 9910
           }
          ]
         }
        },
        {
         "name": "Model",
         "dtype": "object",
         "stats": {
          "unique_count": 915,
          "nan_count": 0,
          "categories": [
           {
            "name": "Silverado 1500",
            "count": 156
           },
           {
            "name": "Tundra",
            "count": 140
           },
           {
            "name": "913 others",
            "count": 11618
           }
          ]
         }
        },
        {
         "name": "Year",
         "dtype": "int64",
         "stats": {
          "unique_count": 28,
          "nan_count": 0,
          "min": "1990",
          "max": "2017",
          "histogram": [
           {
            "bin_start": 1990,
            "bin_end": 1992.7,
            "count": 452
           },
           {
            "bin_start": 1992.7,
            "bin_end": 1995.4,
            "count": 507
           },
           {
            "bin_start": 1995.4,
            "bin_end": 1998.1,
            "count": 460
           },
           {
            "bin_start": 1998.1,
            "bin_end": 2000.8,
            "count": 238
           },
           {
            "bin_start": 2000.8,
            "bin_end": 2003.5,
            "count": 611
           },
           {
            "bin_start": 2003.5,
            "bin_end": 2006.2,
            "count": 653
           },
           {
            "bin_start": 2006.2,
            "bin_end": 2008.9,
            "count": 694
           },
           {
            "bin_start": 2008.9,
            "bin_end": 2011.6,
            "count": 962
           },
           {
            "bin_start": 2011.6,
            "bin_end": 2014.3,
            "count": 1342
           },
           {
            "bin_start": 2014.3,
            "bin_end": 2017,
            "count": 5995
           }
          ]
         }
        },
        {
         "name": "Engine Fuel Type",
         "dtype": "object",
         "stats": {
          "unique_count": 10,
          "nan_count": 3,
          "categories": [
           {
            "name": "regular unleaded",
            "count": 7172
           },
           {
            "name": "9 others",
            "count": 4739
           },
           {
            "name": "Missing",
            "count": 3
           }
          ]
         }
        },
        {
         "name": "Engine HP",
         "dtype": "float64",
         "stats": {
          "unique_count": 356,
          "nan_count": 69,
          "min": "55.0",
          "max": "1001.0",
          "histogram": [
           {
            "bin_start": 55,
            "bin_end": 149.6,
            "count": 1695
           },
           {
            "bin_start": 149.6,
            "bin_end": 244.2,
            "count": 4834
           },
           {
            "bin_start": 244.2,
            "bin_end": 338.79999999999995,
            "count": 3489
           },
           {
            "bin_start": 338.79999999999995,
            "bin_end": 433.4,
            "count": 1057
           },
           {
            "bin_start": 433.4,
            "bin_end": 528,
            "count": 407
           },
           {
            "bin_start": 528,
            "bin_end": 622.5999999999999,
            "count": 266
           },
           {
            "bin_start": 622.5999999999999,
            "bin_end": 717.1999999999999,
            "count": 85
           },
           {
            "bin_start": 717.1999999999999,
            "bin_end": 811.8,
            "count": 9
           },
           {
            "bin_start": 811.8,
            "bin_end": 906.4,
            "count": 0
           },
           {
            "bin_start": 906.4,
            "bin_end": 1001,
            "count": 3
           }
          ]
         }
        },
        {
         "name": "Engine Cylinders",
         "dtype": "float64",
         "stats": {
          "unique_count": 9,
          "nan_count": 30,
          "min": "0.0",
          "max": "16.0",
          "histogram": [
           {
            "bin_start": 0,
            "bin_end": 1.6,
            "count": 56
           },
           {
            "bin_start": 1.6,
            "bin_end": 3.2,
            "count": 30
           },
           {
            "bin_start": 3.2,
            "bin_end": 4.800000000000001,
            "count": 4752
           },
           {
            "bin_start": 4.800000000000001,
            "bin_end": 6.4,
            "count": 4714
           },
           {
            "bin_start": 6.4,
            "bin_end": 8,
            "count": 0
           },
           {
            "bin_start": 8,
            "bin_end": 9.600000000000001,
            "count": 2031
           },
           {
            "bin_start": 9.600000000000001,
            "bin_end": 11.200000000000001,
            "count": 68
           },
           {
            "bin_start": 11.200000000000001,
            "bin_end": 12.8,
            "count": 230
           },
           {
            "bin_start": 12.8,
            "bin_end": 14.4,
            "count": 0
           },
           {
            "bin_start": 14.4,
            "bin_end": 16,
            "count": 3
           }
          ]
         }
        },
        {
         "name": "Transmission Type",
         "dtype": "object",
         "stats": {
          "unique_count": 5,
          "nan_count": 0,
          "categories": [
           {
            "name": "AUTOMATIC",
            "count": 8266
           },
           {
            "name": "MANUAL",
            "count": 2935
           },
           {
            "name": "3 others",
            "count": 713
           }
          ]
         }
        },
        {
         "name": "Driven_Wheels",
         "dtype": "object",
         "stats": {
          "unique_count": 4,
          "nan_count": 0,
          "categories": [
           {
            "name": "front wheel drive",
            "count": 4787
           },
           {
            "name": "rear wheel drive",
            "count": 3371
           },
           {
            "name": "2 others",
            "count": 3756
           }
          ]
         }
        },
        {
         "name": "Number of Doors",
         "dtype": "float64"
        },
        {
         "name": "Market Category",
         "dtype": "object"
        },
        {
         "name": "Vehicle Size",
         "dtype": "object"
        },
        {
         "name": "Vehicle Style",
         "dtype": "object"
        },
        {
         "name": "highway MPG",
         "dtype": "int64"
        },
        {
         "name": "city mpg",
         "dtype": "int64"
        },
        {
         "name": "Popularity",
         "dtype": "int64"
        },
        {
         "name": "MSRP",
         "dtype": "int64"
        },
        {
         "name": "_deepnote_index_column",
         "dtype": "int64"
        }
       ],
       "rows": [
        {
         "Make": "Mitsubishi",
         "Model": "Outlander Sport",
         "Year": 2017,
         "Engine Fuel Type": "regular unleaded",
         "Engine HP": 168,
         "Engine Cylinders": 4,
         "Transmission Type": "AUTOMATIC",
         "Driven_Wheels": "four wheel drive",
         "Number of Doors": 4,
         "Market Category": "Crossover",
         "Vehicle Size": "Compact",
         "Vehicle Style": "4dr SUV",
         "highway MPG": 27,
         "city mpg": 22,
         "Popularity": 436,
         "MSRP": 27695,
         "_deepnote_index_column": 7376
        },
        {
         "Make": "Kia",
         "Model": "Forte",
         "Year": 2017,
         "Engine Fuel Type": "regular unleaded",
         "Engine HP": 164,
         "Engine Cylinders": 4,
         "Transmission Type": "AUTOMATIC",
         "Driven_Wheels": "front wheel drive",
         "Number of Doors": 4,
         "Market Category": "Hatchback",
         "Vehicle Size": "Compact",
         "Vehicle Style": "4dr Hatchback",
         "highway MPG": 34,
         "city mpg": 25,
         "Popularity": 1720,
         "MSRP": 21990,
         "_deepnote_index_column": 4885
        },
        {
         "Make": "Nissan",
         "Model": "Versa Note",
         "Year": 2017,
         "Engine Fuel Type": "regular unleaded",
         "Engine HP": 109,
         "Engine Cylinders": 4,
         "Transmission Type": "AUTOMATIC",
         "Driven_Wheels": "front wheel drive",
         "Number of Doors": 4,
         "Market Category": "Hatchback",
         "Vehicle Size": "Compact",
         "Vehicle Style": "4dr Hatchback",
         "highway MPG": 39,
         "city mpg": 31,
         "Popularity": 2009,
         "MSRP": 15480,
         "_deepnote_index_column": 11342
        },
        {
         "Make": "Mercedes-Benz",
         "Model": "B-Class Electric Drive",
         "Year": 2017,
         "Engine Fuel Type": "electric",
         "Engine HP": 177,
         "Engine Cylinders": 0,
         "Transmission Type": "DIRECT_DRIVE",
         "Driven_Wheels": "front wheel drive",
         "Number of Doors": 4,
         "Market Category": "Hatchback,Luxury",
         "Vehicle Size": "Compact",
         "Vehicle Style": "4dr Hatchback",
         "highway MPG": 82,
         "city mpg": 85,
         "Popularity": 617,
         "MSRP": 39900,
         "_deepnote_index_column": 1682
        },
        {
         "Make": "Nissan",
         "Model": "Versa Note",
         "Year": 2017,
         "Engine Fuel Type": "regular unleaded",
         "Engine HP": 109,
         "Engine Cylinders": 4,
         "Transmission Type": "AUTOMATIC",
         "Driven_Wheels": "front wheel drive",
         "Number of Doors": 4,
         "Market Category": "Hatchback",
         "Vehicle Size": "Compact",
         "Vehicle Style": "4dr Hatchback",
         "highway MPG": 39,
         "city mpg": 31,
         "Popularity": 2009,
         "MSRP": 17980,
         "_deepnote_index_column": 11343
        },
        {
         "Make": "Nissan",
         "Model": "Versa Note",
         "Year": 2017,
         "Engine Fuel Type": "regular unleaded",
         "Engine HP": 109,
         "Engine Cylinders": 4,
         "Transmission Type": "AUTOMATIC",
         "Driven_Wheels": "front wheel drive",
         "Number of Doors": 4,
         "Market Category": "Hatchback",
         "Vehicle Size": "Compact",
         "Vehicle Style": "4dr Hatchback",
         "highway MPG": 39,
         "city mpg": 31,
         "Popularity": 2009,
         "MSRP": 16380,
         "_deepnote_index_column": 11344
        },
        {
         "Make": "Nissan",
         "Model": "Versa Note",
         "Year": 2017,
         "Engine Fuel Type": "regular unleaded",
         "Engine HP": 109,
         "Engine Cylinders": 4,
         "Transmission Type": "AUTOMATIC",
         "Driven_Wheels": "front wheel drive",
         "Number of Doors": 4,
         "Market Category": "Hatchback",
         "Vehicle Size": "Compact",
         "Vehicle Style": "4dr Hatchback",
         "highway MPG": 39,
         "city mpg": 31,
         "Popularity": 2009,
         "MSRP": 18710,
         "_deepnote_index_column": 11345
        },
        {
         "Make": "Kia",
         "Model": "Forte",
         "Year": 2017,
         "Engine Fuel Type": "regular unleaded",
         "Engine HP": 147,
         "Engine Cylinders": 4,
         "Transmission Type": "AUTOMATIC",
         "Driven_Wheels": "front wheel drive",
         "Number of Doors": 4,
         "Market Category": "nan",
         "Vehicle Size": "Compact",
         "Vehicle Style": "Sedan",
         "highway MPG": 38,
         "city mpg": 29,
         "Popularity": 1720,
         "MSRP": 17500,
         "_deepnote_index_column": 4878
        },
        {
         "Make": "Hyundai",
         "Model": "Azera",
         "Year": 2017,
         "Engine Fuel Type": "regular unleaded",
         "Engine HP": 293,
         "Engine Cylinders": 6,
         "Transmission Type": "AUTOMATIC",
         "Driven_Wheels": "front wheel drive",
         "Number of Doors": 4,
         "Market Category": "Performance",
         "Vehicle Size": "Midsize",
         "Vehicle Style": "Sedan",
         "highway MPG": 28,
         "city mpg": 19,
         "Popularity": 1439,
         "MSRP": 39300,
         "_deepnote_index_column": 1669
        },
        {
         "Make": "Hyundai",
         "Model": "Azera",
         "Year": 2017,
         "Engine Fuel Type": "regular unleaded",
         "Engine HP": 293,
         "Engine Cylinders": 6,
         "Transmission Type": "AUTOMATIC",
         "Driven_Wheels": "front wheel drive",
         "Number of Doors": 4,
         "Market Category": "Performance",
         "Vehicle Size": "Midsize",
         "Vehicle Style": "Sedan",
         "highway MPG": 28,
         "city mpg": 20,
         "Popularity": 1439,
         "MSRP": 34100,
         "_deepnote_index_column": 1668
        }
       ]
      },
      "text/plain": "                Make                   Model  Year  Engine Fuel Type  \\\n7376      Mitsubishi         Outlander Sport  2017  regular unleaded   \n4885             Kia                   Forte  2017  regular unleaded   \n11342         Nissan              Versa Note  2017  regular unleaded   \n1682   Mercedes-Benz  B-Class Electric Drive  2017          electric   \n11343         Nissan              Versa Note  2017  regular unleaded   \n...              ...                     ...   ...               ...   \n8810             GMC                    S-15  1990  regular unleaded   \n9988          Nissan                  Stanza  1990  regular unleaded   \n9987          Nissan                  Stanza  1990  regular unleaded   \n11205         Nissan                     Van  1990  regular unleaded   \n674          Pontiac                    6000  1990  regular unleaded   \n\n       Engine HP  Engine Cylinders Transmission Type      Driven_Wheels  \\\n7376       168.0               4.0         AUTOMATIC   four wheel drive   \n4885       164.0               4.0         AUTOMATIC  front wheel drive   \n11342      109.0               4.0         AUTOMATIC  front wheel drive   \n1682       177.0               0.0      DIRECT_DRIVE  front wheel drive   \n11343      109.0               4.0         AUTOMATIC  front wheel drive   \n...          ...               ...               ...                ...   \n8810       105.0               4.0            MANUAL   rear wheel drive   \n9988       138.0               4.0            MANUAL  front wheel drive   \n9987       138.0               4.0            MANUAL  front wheel drive   \n11205      106.0               4.0            MANUAL   rear wheel drive   \n674        140.0               6.0         AUTOMATIC  front wheel drive   \n\n       Number of Doors   Market Category Vehicle Size       Vehicle Style  \\\n7376               4.0         Crossover      Compact             4dr SUV   \n4885               4.0         Hatchback      Compact       4dr Hatchback   \n11342              4.0         Hatchback      Compact       4dr Hatchback   \n1682               4.0  Hatchback,Luxury      Compact       4dr Hatchback   \n11343              4.0         Hatchback      Compact       4dr Hatchback   \n...                ...               ...          ...                 ...   \n8810               2.0               NaN      Compact  Regular Cab Pickup   \n9988               4.0               NaN      Compact               Sedan   \n9987               4.0               NaN      Compact               Sedan   \n11205              3.0               NaN      Compact   Passenger Minivan   \n674                4.0               NaN      Midsize               Sedan   \n\n       highway MPG  city mpg  Popularity   MSRP  \n7376            27        22         436  27695  \n4885            34        25        1720  21990  \n11342           39        31        2009  15480  \n1682            82        85         617  39900  \n11343           39        31        2009  17980  \n...            ...       ...         ...    ...  \n8810            25        21         549   2000  \n9988            26        19        2009   2000  \n9987            26        19        2009   2000  \n11205           20        16        2009   2000  \n674             27        17         210   2000  \n\n[11914 rows x 16 columns]",
      "text/html": "<div>\n<style scoped>\n    .dataframe tbody tr th:only-of-type {\n        vertical-align: middle;\n    }\n\n    .dataframe tbody tr th {\n        vertical-align: top;\n    }\n\n    .dataframe thead th {\n        text-align: right;\n    }\n</style>\n<table border=\"1\" class=\"dataframe\">\n  <thead>\n    <tr style=\"text-align: right;\">\n      <th></th>\n      <th>Make</th>\n      <th>Model</th>\n      <th>Year</th>\n      <th>Engine Fuel Type</th>\n      <th>Engine HP</th>\n      <th>Engine Cylinders</th>\n      <th>Transmission Type</th>\n      <th>Driven_Wheels</th>\n      <th>Number of Doors</th>\n      <th>Market Category</th>\n      <th>Vehicle Size</th>\n      <th>Vehicle Style</th>\n      <th>highway MPG</th>\n      <th>city mpg</th>\n      <th>Popularity</th>\n      <th>MSRP</th>\n    </tr>\n  </thead>\n  <tbody>\n    <tr>\n      <th>7376</th>\n      <td>Mitsubishi</td>\n      <td>Outlander Sport</td>\n      <td>2017</td>\n      <td>regular unleaded</td>\n      <td>168.0</td>\n      <td>4.0</td>\n      <td>AUTOMATIC</td>\n      <td>four wheel drive</td>\n      <td>4.0</td>\n      <td>Crossover</td>\n      <td>Compact</td>\n      <td>4dr SUV</td>\n      <td>27</td>\n      <td>22</td>\n      <td>436</td>\n      <td>27695</td>\n    </tr>\n    <tr>\n      <th>4885</th>\n      <td>Kia</td>\n      <td>Forte</td>\n      <td>2017</td>\n      <td>regular unleaded</td>\n      <td>164.0</td>\n      <td>4.0</td>\n      <td>AUTOMATIC</td>\n      <td>front wheel drive</td>\n      <td>4.0</td>\n      <td>Hatchback</td>\n      <td>Compact</td>\n      <td>4dr Hatchback</td>\n      <td>34</td>\n      <td>25</td>\n      <td>1720</td>\n      <td>21990</td>\n    </tr>\n    <tr>\n      <th>11342</th>\n      <td>Nissan</td>\n      <td>Versa Note</td>\n      <td>2017</td>\n      <td>regular unleaded</td>\n      <td>109.0</td>\n      <td>4.0</td>\n      <td>AUTOMATIC</td>\n      <td>front wheel drive</td>\n      <td>4.0</td>\n      <td>Hatchback</td>\n      <td>Compact</td>\n      <td>4dr Hatchback</td>\n      <td>39</td>\n      <td>31</td>\n      <td>2009</td>\n      <td>15480</td>\n    </tr>\n    <tr>\n      <th>1682</th>\n      <td>Mercedes-Benz</td>\n      <td>B-Class Electric Drive</td>\n      <td>2017</td>\n      <td>electric</td>\n      <td>177.0</td>\n      <td>0.0</td>\n      <td>DIRECT_DRIVE</td>\n      <td>front wheel drive</td>\n      <td>4.0</td>\n      <td>Hatchback,Luxury</td>\n      <td>Compact</td>\n      <td>4dr Hatchback</td>\n      <td>82</td>\n      <td>85</td>\n      <td>617</td>\n      <td>39900</td>\n    </tr>\n    <tr>\n      <th>11343</th>\n      <td>Nissan</td>\n      <td>Versa Note</td>\n      <td>2017</td>\n      <td>regular unleaded</td>\n      <td>109.0</td>\n      <td>4.0</td>\n      <td>AUTOMATIC</td>\n      <td>front wheel drive</td>\n      <td>4.0</td>\n      <td>Hatchback</td>\n      <td>Compact</td>\n      <td>4dr Hatchback</td>\n      <td>39</td>\n      <td>31</td>\n      <td>2009</td>\n      <td>17980</td>\n    </tr>\n    <tr>\n      <th>...</th>\n      <td>...</td>\n      <td>...</td>\n      <td>...</td>\n      <td>...</td>\n      <td>...</td>\n      <td>...</td>\n      <td>...</td>\n      <td>...</td>\n      <td>...</td>\n      <td>...</td>\n      <td>...</td>\n      <td>...</td>\n      <td>...</td>\n      <td>...</td>\n      <td>...</td>\n      <td>...</td>\n    </tr>\n    <tr>\n      <th>8810</th>\n      <td>GMC</td>\n      <td>S-15</td>\n      <td>1990</td>\n      <td>regular unleaded</td>\n      <td>105.0</td>\n      <td>4.0</td>\n      <td>MANUAL</td>\n      <td>rear wheel drive</td>\n      <td>2.0</td>\n      <td>NaN</td>\n      <td>Compact</td>\n      <td>Regular Cab Pickup</td>\n      <td>25</td>\n      <td>21</td>\n      <td>549</td>\n      <td>2000</td>\n    </tr>\n    <tr>\n      <th>9988</th>\n      <td>Nissan</td>\n      <td>Stanza</td>\n      <td>1990</td>\n      <td>regular unleaded</td>\n      <td>138.0</td>\n      <td>4.0</td>\n      <td>MANUAL</td>\n      <td>front wheel drive</td>\n      <td>4.0</td>\n      <td>NaN</td>\n      <td>Compact</td>\n      <td>Sedan</td>\n      <td>26</td>\n      <td>19</td>\n      <td>2009</td>\n      <td>2000</td>\n    </tr>\n    <tr>\n      <th>9987</th>\n      <td>Nissan</td>\n      <td>Stanza</td>\n      <td>1990</td>\n      <td>regular unleaded</td>\n      <td>138.0</td>\n      <td>4.0</td>\n      <td>MANUAL</td>\n      <td>front wheel drive</td>\n      <td>4.0</td>\n      <td>NaN</td>\n      <td>Compact</td>\n      <td>Sedan</td>\n      <td>26</td>\n      <td>19</td>\n      <td>2009</td>\n      <td>2000</td>\n    </tr>\n    <tr>\n      <th>11205</th>\n      <td>Nissan</td>\n      <td>Van</td>\n      <td>1990</td>\n      <td>regular unleaded</td>\n      <td>106.0</td>\n      <td>4.0</td>\n      <td>MANUAL</td>\n      <td>rear wheel drive</td>\n      <td>3.0</td>\n      <td>NaN</td>\n      <td>Compact</td>\n      <td>Passenger Minivan</td>\n      <td>20</td>\n      <td>16</td>\n      <td>2009</td>\n      <td>2000</td>\n    </tr>\n    <tr>\n      <th>674</th>\n      <td>Pontiac</td>\n      <td>6000</td>\n      <td>1990</td>\n      <td>regular unleaded</td>\n      <td>140.0</td>\n      <td>6.0</td>\n      <td>AUTOMATIC</td>\n      <td>front wheel drive</td>\n      <td>4.0</td>\n      <td>NaN</td>\n      <td>Midsize</td>\n      <td>Sedan</td>\n      <td>27</td>\n      <td>17</td>\n      <td>210</td>\n      <td>2000</td>\n    </tr>\n  </tbody>\n</table>\n<p>11914 rows × 16 columns</p>\n</div>"
     },
     "metadata": {}
    }
   ]
  },
  {
   "cell_type": "markdown",
   "source": "## We can add one of the pandas sorting algorithm wich are quicksort and mergesort. ",
   "metadata": {
    "formattedRanges": [],
    "cell_id": "34674ae8b51a42eeacb534f4d78d6bf2",
    "tags": [],
    "is_collapsed": false,
    "deepnote_cell_type": "text-cell-h2"
   }
  },
  {
   "cell_type": "markdown",
   "source": "Let's add the mergesort algorithm when sorting our DataFrame",
   "metadata": {
    "formattedRanges": [],
    "cell_id": "690efa7e8cf54c249dba4853b99186b4",
    "tags": [],
    "is_collapsed": false,
    "deepnote_cell_type": "text-cell-p"
   }
  },
  {
   "cell_type": "code",
   "metadata": {
    "cell_id": "5a4e3d30183442709b95938381f7f493",
    "tags": [],
    "deepnote_to_be_reexecuted": false,
    "source_hash": "79bf1f1b",
    "execution_start": 1654688661469,
    "execution_millis": 172,
    "deepnote_cell_type": "code",
    "deepnote_cell_height": 688.796875
   },
   "source": "df.sort_values(\n    by='Year',\n    ascending=False,\n    kind='mergesort'\n    )",
   "execution_count": 6,
   "outputs": [
    {
     "output_type": "execute_result",
     "execution_count": 6,
     "data": {
      "application/vnd.deepnote.dataframe.v3+json": {
       "column_count": 16,
       "row_count": 11914,
       "columns": [
        {
         "name": "Make",
         "dtype": "object",
         "stats": {
          "unique_count": 48,
          "nan_count": 0,
          "categories": [
           {
            "name": "Chevrolet",
            "count": 1123
           },
           {
            "name": "Ford",
            "count": 881
           },
           {
            "name": "46 others",
            "count": 9910
           }
          ]
         }
        },
        {
         "name": "Model",
         "dtype": "object",
         "stats": {
          "unique_count": 915,
          "nan_count": 0,
          "categories": [
           {
            "name": "Silverado 1500",
            "count": 156
           },
           {
            "name": "Tundra",
            "count": 140
           },
           {
            "name": "913 others",
            "count": 11618
           }
          ]
         }
        },
        {
         "name": "Year",
         "dtype": "int64",
         "stats": {
          "unique_count": 28,
          "nan_count": 0,
          "min": "1990",
          "max": "2017",
          "histogram": [
           {
            "bin_start": 1990,
            "bin_end": 1992.7,
            "count": 452
           },
           {
            "bin_start": 1992.7,
            "bin_end": 1995.4,
            "count": 507
           },
           {
            "bin_start": 1995.4,
            "bin_end": 1998.1,
            "count": 460
           },
           {
            "bin_start": 1998.1,
            "bin_end": 2000.8,
            "count": 238
           },
           {
            "bin_start": 2000.8,
            "bin_end": 2003.5,
            "count": 611
           },
           {
            "bin_start": 2003.5,
            "bin_end": 2006.2,
            "count": 653
           },
           {
            "bin_start": 2006.2,
            "bin_end": 2008.9,
            "count": 694
           },
           {
            "bin_start": 2008.9,
            "bin_end": 2011.6,
            "count": 962
           },
           {
            "bin_start": 2011.6,
            "bin_end": 2014.3,
            "count": 1342
           },
           {
            "bin_start": 2014.3,
            "bin_end": 2017,
            "count": 5995
           }
          ]
         }
        },
        {
         "name": "Engine Fuel Type",
         "dtype": "object",
         "stats": {
          "unique_count": 10,
          "nan_count": 3,
          "categories": [
           {
            "name": "regular unleaded",
            "count": 7172
           },
           {
            "name": "9 others",
            "count": 4739
           },
           {
            "name": "Missing",
            "count": 3
           }
          ]
         }
        },
        {
         "name": "Engine HP",
         "dtype": "float64",
         "stats": {
          "unique_count": 356,
          "nan_count": 69,
          "min": "55.0",
          "max": "1001.0",
          "histogram": [
           {
            "bin_start": 55,
            "bin_end": 149.6,
            "count": 1695
           },
           {
            "bin_start": 149.6,
            "bin_end": 244.2,
            "count": 4834
           },
           {
            "bin_start": 244.2,
            "bin_end": 338.79999999999995,
            "count": 3489
           },
           {
            "bin_start": 338.79999999999995,
            "bin_end": 433.4,
            "count": 1057
           },
           {
            "bin_start": 433.4,
            "bin_end": 528,
            "count": 407
           },
           {
            "bin_start": 528,
            "bin_end": 622.5999999999999,
            "count": 266
           },
           {
            "bin_start": 622.5999999999999,
            "bin_end": 717.1999999999999,
            "count": 85
           },
           {
            "bin_start": 717.1999999999999,
            "bin_end": 811.8,
            "count": 9
           },
           {
            "bin_start": 811.8,
            "bin_end": 906.4,
            "count": 0
           },
           {
            "bin_start": 906.4,
            "bin_end": 1001,
            "count": 3
           }
          ]
         }
        },
        {
         "name": "Engine Cylinders",
         "dtype": "float64",
         "stats": {
          "unique_count": 9,
          "nan_count": 30,
          "min": "0.0",
          "max": "16.0",
          "histogram": [
           {
            "bin_start": 0,
            "bin_end": 1.6,
            "count": 56
           },
           {
            "bin_start": 1.6,
            "bin_end": 3.2,
            "count": 30
           },
           {
            "bin_start": 3.2,
            "bin_end": 4.800000000000001,
            "count": 4752
           },
           {
            "bin_start": 4.800000000000001,
            "bin_end": 6.4,
            "count": 4714
           },
           {
            "bin_start": 6.4,
            "bin_end": 8,
            "count": 0
           },
           {
            "bin_start": 8,
            "bin_end": 9.600000000000001,
            "count": 2031
           },
           {
            "bin_start": 9.600000000000001,
            "bin_end": 11.200000000000001,
            "count": 68
           },
           {
            "bin_start": 11.200000000000001,
            "bin_end": 12.8,
            "count": 230
           },
           {
            "bin_start": 12.8,
            "bin_end": 14.4,
            "count": 0
           },
           {
            "bin_start": 14.4,
            "bin_end": 16,
            "count": 3
           }
          ]
         }
        },
        {
         "name": "Transmission Type",
         "dtype": "object",
         "stats": {
          "unique_count": 5,
          "nan_count": 0,
          "categories": [
           {
            "name": "AUTOMATIC",
            "count": 8266
           },
           {
            "name": "MANUAL",
            "count": 2935
           },
           {
            "name": "3 others",
            "count": 713
           }
          ]
         }
        },
        {
         "name": "Driven_Wheels",
         "dtype": "object",
         "stats": {
          "unique_count": 4,
          "nan_count": 0,
          "categories": [
           {
            "name": "front wheel drive",
            "count": 4787
           },
           {
            "name": "rear wheel drive",
            "count": 3371
           },
           {
            "name": "2 others",
            "count": 3756
           }
          ]
         }
        },
        {
         "name": "Number of Doors",
         "dtype": "float64"
        },
        {
         "name": "Market Category",
         "dtype": "object"
        },
        {
         "name": "Vehicle Size",
         "dtype": "object"
        },
        {
         "name": "Vehicle Style",
         "dtype": "object"
        },
        {
         "name": "highway MPG",
         "dtype": "int64"
        },
        {
         "name": "city mpg",
         "dtype": "int64"
        },
        {
         "name": "Popularity",
         "dtype": "int64"
        },
        {
         "name": "MSRP",
         "dtype": "int64"
        },
        {
         "name": "_deepnote_index_column",
         "dtype": "int64"
        }
       ],
       "rows": [
        {
         "Make": "FIAT",
         "Model": "124 Spider",
         "Year": 2017,
         "Engine Fuel Type": "premium unleaded (recommended)",
         "Engine HP": 160,
         "Engine Cylinders": 4,
         "Transmission Type": "MANUAL",
         "Driven_Wheels": "rear wheel drive",
         "Number of Doors": 2,
         "Market Category": "Performance",
         "Vehicle Size": "Compact",
         "Vehicle Style": "Convertible",
         "highway MPG": 35,
         "city mpg": 26,
         "Popularity": 819,
         "MSRP": 27495,
         "_deepnote_index_column": 32
        },
        {
         "Make": "FIAT",
         "Model": "124 Spider",
         "Year": 2017,
         "Engine Fuel Type": "premium unleaded (recommended)",
         "Engine HP": 160,
         "Engine Cylinders": 4,
         "Transmission Type": "MANUAL",
         "Driven_Wheels": "rear wheel drive",
         "Number of Doors": 2,
         "Market Category": "Performance",
         "Vehicle Size": "Compact",
         "Vehicle Style": "Convertible",
         "highway MPG": 35,
         "city mpg": 26,
         "Popularity": 819,
         "MSRP": 24995,
         "_deepnote_index_column": 33
        },
        {
         "Make": "FIAT",
         "Model": "124 Spider",
         "Year": 2017,
         "Engine Fuel Type": "premium unleaded (recommended)",
         "Engine HP": 160,
         "Engine Cylinders": 4,
         "Transmission Type": "MANUAL",
         "Driven_Wheels": "rear wheel drive",
         "Number of Doors": 2,
         "Market Category": "Performance",
         "Vehicle Size": "Compact",
         "Vehicle Style": "Convertible",
         "highway MPG": 35,
         "city mpg": 26,
         "Popularity": 819,
         "MSRP": 28195,
         "_deepnote_index_column": 34
        },
        {
         "Make": "BMW",
         "Model": "2 Series",
         "Year": 2017,
         "Engine Fuel Type": "premium unleaded (recommended)",
         "Engine HP": 335,
         "Engine Cylinders": 6,
         "Transmission Type": "AUTOMATIC",
         "Driven_Wheels": "all wheel drive",
         "Number of Doors": 2,
         "Market Category": "Factory Tuner,Luxury,High-Performance",
         "Vehicle Size": "Compact",
         "Vehicle Style": "Coupe",
         "highway MPG": 31,
         "city mpg": 21,
         "Popularity": 3916,
         "MSRP": 46450,
         "_deepnote_index_column": 50
        },
        {
         "Make": "BMW",
         "Model": "2 Series",
         "Year": 2017,
         "Engine Fuel Type": "premium unleaded (recommended)",
         "Engine HP": 335,
         "Engine Cylinders": 6,
         "Transmission Type": "AUTOMATIC",
         "Driven_Wheels": "rear wheel drive",
         "Number of Doors": 2,
         "Market Category": "Factory Tuner,Luxury,High-Performance",
         "Vehicle Size": "Compact",
         "Vehicle Style": "Convertible",
         "highway MPG": 32,
         "city mpg": 21,
         "Popularity": 3916,
         "MSRP": 49050,
         "_deepnote_index_column": 51
        },
        {
         "Make": "BMW",
         "Model": "2 Series",
         "Year": 2017,
         "Engine Fuel Type": "premium unleaded (recommended)",
         "Engine HP": 335,
         "Engine Cylinders": 6,
         "Transmission Type": "AUTOMATIC",
         "Driven_Wheels": "all wheel drive",
         "Number of Doors": 2,
         "Market Category": "Factory Tuner,Luxury,High-Performance",
         "Vehicle Size": "Compact",
         "Vehicle Style": "Convertible",
         "highway MPG": 32,
         "city mpg": 21,
         "Popularity": 3916,
         "MSRP": 51050,
         "_deepnote_index_column": 52
        },
        {
         "Make": "BMW",
         "Model": "2 Series",
         "Year": 2017,
         "Engine Fuel Type": "premium unleaded (recommended)",
         "Engine HP": 335,
         "Engine Cylinders": 6,
         "Transmission Type": "AUTOMATIC",
         "Driven_Wheels": "rear wheel drive",
         "Number of Doors": 2,
         "Market Category": "Factory Tuner,Luxury,High-Performance",
         "Vehicle Size": "Compact",
         "Vehicle Style": "Coupe",
         "highway MPG": 32,
         "city mpg": 21,
         "Popularity": 3916,
         "MSRP": 44450,
         "_deepnote_index_column": 53
        },
        {
         "Make": "BMW",
         "Model": "2 Series",
         "Year": 2017,
         "Engine Fuel Type": "premium unleaded (recommended)",
         "Engine HP": 248,
         "Engine Cylinders": 4,
         "Transmission Type": "AUTOMATIC",
         "Driven_Wheels": "rear wheel drive",
         "Number of Doors": 2,
         "Market Category": "Luxury,Performance",
         "Vehicle Size": "Compact",
         "Vehicle Style": "Convertible",
         "highway MPG": 34,
         "city mpg": 23,
         "Popularity": 3916,
         "MSRP": 38950,
         "_deepnote_index_column": 54
        },
        {
         "Make": "BMW",
         "Model": "2 Series",
         "Year": 2017,
         "Engine Fuel Type": "premium unleaded (recommended)",
         "Engine HP": 248,
         "Engine Cylinders": 4,
         "Transmission Type": "AUTOMATIC",
         "Driven_Wheels": "rear wheel drive",
         "Number of Doors": 2,
         "Market Category": "Luxury,Performance",
         "Vehicle Size": "Compact",
         "Vehicle Style": "Coupe",
         "highway MPG": 35,
         "city mpg": 24,
         "Popularity": 3916,
         "MSRP": 33150,
         "_deepnote_index_column": 55
        },
        {
         "Make": "BMW",
         "Model": "2 Series",
         "Year": 2017,
         "Engine Fuel Type": "premium unleaded (recommended)",
         "Engine HP": 248,
         "Engine Cylinders": 4,
         "Transmission Type": "AUTOMATIC",
         "Driven_Wheels": "all wheel drive",
         "Number of Doors": 2,
         "Market Category": "Luxury,Performance",
         "Vehicle Size": "Compact",
         "Vehicle Style": "Coupe",
         "highway MPG": 33,
         "city mpg": 24,
         "Popularity": 3916,
         "MSRP": 35150,
         "_deepnote_index_column": 56
        }
       ]
      },
      "text/plain": "             Make       Model  Year                Engine Fuel Type  \\\n32           FIAT  124 Spider  2017  premium unleaded (recommended)   \n33           FIAT  124 Spider  2017  premium unleaded (recommended)   \n34           FIAT  124 Spider  2017  premium unleaded (recommended)   \n50            BMW    2 Series  2017  premium unleaded (recommended)   \n51            BMW    2 Series  2017  premium unleaded (recommended)   \n...           ...         ...   ...                             ...   \n11188  Volkswagen     Vanagon  1990                regular unleaded   \n11204      Nissan         Van  1990                regular unleaded   \n11205      Nissan         Van  1990                regular unleaded   \n11214  Mitsubishi    Vanwagon  1990                regular unleaded   \n11215  Mitsubishi    Vanwagon  1990                regular unleaded   \n\n       Engine HP  Engine Cylinders Transmission Type     Driven_Wheels  \\\n32         160.0               4.0            MANUAL  rear wheel drive   \n33         160.0               4.0            MANUAL  rear wheel drive   \n34         160.0               4.0            MANUAL  rear wheel drive   \n50         335.0               6.0         AUTOMATIC   all wheel drive   \n51         335.0               6.0         AUTOMATIC  rear wheel drive   \n...          ...               ...               ...               ...   \n11188       90.0               4.0            MANUAL  rear wheel drive   \n11204      106.0               4.0         AUTOMATIC  rear wheel drive   \n11205      106.0               4.0            MANUAL  rear wheel drive   \n11214      107.0               4.0         AUTOMATIC  rear wheel drive   \n11215      107.0               4.0         AUTOMATIC  rear wheel drive   \n\n       Number of Doors                        Market Category Vehicle Size  \\\n32                 2.0                            Performance      Compact   \n33                 2.0                            Performance      Compact   \n34                 2.0                            Performance      Compact   \n50                 2.0  Factory Tuner,Luxury,High-Performance      Compact   \n51                 2.0  Factory Tuner,Luxury,High-Performance      Compact   \n...                ...                                    ...          ...   \n11188              3.0                                    NaN        Large   \n11204              3.0                                    NaN      Compact   \n11205              3.0                                    NaN      Compact   \n11214              3.0                                    NaN      Compact   \n11215              3.0                                    NaN      Compact   \n\n           Vehicle Style  highway MPG  city mpg  Popularity   MSRP  \n32           Convertible           35        26         819  27495  \n33           Convertible           35        26         819  24995  \n34           Convertible           35        26         819  28195  \n50                 Coupe           31        21        3916  46450  \n51           Convertible           32        21        3916  49050  \n...                  ...          ...       ...         ...    ...  \n11188  Passenger Minivan           18        16         873   2000  \n11204  Passenger Minivan           19        15        2009   2000  \n11205  Passenger Minivan           20        16        2009   2000  \n11214  Passenger Minivan           19        16         436   2000  \n11215      Cargo Minivan           20        18         436   2000  \n\n[11914 rows x 16 columns]",
      "text/html": "<div>\n<style scoped>\n    .dataframe tbody tr th:only-of-type {\n        vertical-align: middle;\n    }\n\n    .dataframe tbody tr th {\n        vertical-align: top;\n    }\n\n    .dataframe thead th {\n        text-align: right;\n    }\n</style>\n<table border=\"1\" class=\"dataframe\">\n  <thead>\n    <tr style=\"text-align: right;\">\n      <th></th>\n      <th>Make</th>\n      <th>Model</th>\n      <th>Year</th>\n      <th>Engine Fuel Type</th>\n      <th>Engine HP</th>\n      <th>Engine Cylinders</th>\n      <th>Transmission Type</th>\n      <th>Driven_Wheels</th>\n      <th>Number of Doors</th>\n      <th>Market Category</th>\n      <th>Vehicle Size</th>\n      <th>Vehicle Style</th>\n      <th>highway MPG</th>\n      <th>city mpg</th>\n      <th>Popularity</th>\n      <th>MSRP</th>\n    </tr>\n  </thead>\n  <tbody>\n    <tr>\n      <th>32</th>\n      <td>FIAT</td>\n      <td>124 Spider</td>\n      <td>2017</td>\n      <td>premium unleaded (recommended)</td>\n      <td>160.0</td>\n      <td>4.0</td>\n      <td>MANUAL</td>\n      <td>rear wheel drive</td>\n      <td>2.0</td>\n      <td>Performance</td>\n      <td>Compact</td>\n      <td>Convertible</td>\n      <td>35</td>\n      <td>26</td>\n      <td>819</td>\n      <td>27495</td>\n    </tr>\n    <tr>\n      <th>33</th>\n      <td>FIAT</td>\n      <td>124 Spider</td>\n      <td>2017</td>\n      <td>premium unleaded (recommended)</td>\n      <td>160.0</td>\n      <td>4.0</td>\n      <td>MANUAL</td>\n      <td>rear wheel drive</td>\n      <td>2.0</td>\n      <td>Performance</td>\n      <td>Compact</td>\n      <td>Convertible</td>\n      <td>35</td>\n      <td>26</td>\n      <td>819</td>\n      <td>24995</td>\n    </tr>\n    <tr>\n      <th>34</th>\n      <td>FIAT</td>\n      <td>124 Spider</td>\n      <td>2017</td>\n      <td>premium unleaded (recommended)</td>\n      <td>160.0</td>\n      <td>4.0</td>\n      <td>MANUAL</td>\n      <td>rear wheel drive</td>\n      <td>2.0</td>\n      <td>Performance</td>\n      <td>Compact</td>\n      <td>Convertible</td>\n      <td>35</td>\n      <td>26</td>\n      <td>819</td>\n      <td>28195</td>\n    </tr>\n    <tr>\n      <th>50</th>\n      <td>BMW</td>\n      <td>2 Series</td>\n      <td>2017</td>\n      <td>premium unleaded (recommended)</td>\n      <td>335.0</td>\n      <td>6.0</td>\n      <td>AUTOMATIC</td>\n      <td>all wheel drive</td>\n      <td>2.0</td>\n      <td>Factory Tuner,Luxury,High-Performance</td>\n      <td>Compact</td>\n      <td>Coupe</td>\n      <td>31</td>\n      <td>21</td>\n      <td>3916</td>\n      <td>46450</td>\n    </tr>\n    <tr>\n      <th>51</th>\n      <td>BMW</td>\n      <td>2 Series</td>\n      <td>2017</td>\n      <td>premium unleaded (recommended)</td>\n      <td>335.0</td>\n      <td>6.0</td>\n      <td>AUTOMATIC</td>\n      <td>rear wheel drive</td>\n      <td>2.0</td>\n      <td>Factory Tuner,Luxury,High-Performance</td>\n      <td>Compact</td>\n      <td>Convertible</td>\n      <td>32</td>\n      <td>21</td>\n      <td>3916</td>\n      <td>49050</td>\n    </tr>\n    <tr>\n      <th>...</th>\n      <td>...</td>\n      <td>...</td>\n      <td>...</td>\n      <td>...</td>\n      <td>...</td>\n      <td>...</td>\n      <td>...</td>\n      <td>...</td>\n      <td>...</td>\n      <td>...</td>\n      <td>...</td>\n      <td>...</td>\n      <td>...</td>\n      <td>...</td>\n      <td>...</td>\n      <td>...</td>\n    </tr>\n    <tr>\n      <th>11188</th>\n      <td>Volkswagen</td>\n      <td>Vanagon</td>\n      <td>1990</td>\n      <td>regular unleaded</td>\n      <td>90.0</td>\n      <td>4.0</td>\n      <td>MANUAL</td>\n      <td>rear wheel drive</td>\n      <td>3.0</td>\n      <td>NaN</td>\n      <td>Large</td>\n      <td>Passenger Minivan</td>\n      <td>18</td>\n      <td>16</td>\n      <td>873</td>\n      <td>2000</td>\n    </tr>\n    <tr>\n      <th>11204</th>\n      <td>Nissan</td>\n      <td>Van</td>\n      <td>1990</td>\n      <td>regular unleaded</td>\n      <td>106.0</td>\n      <td>4.0</td>\n      <td>AUTOMATIC</td>\n      <td>rear wheel drive</td>\n      <td>3.0</td>\n      <td>NaN</td>\n      <td>Compact</td>\n      <td>Passenger Minivan</td>\n      <td>19</td>\n      <td>15</td>\n      <td>2009</td>\n      <td>2000</td>\n    </tr>\n    <tr>\n      <th>11205</th>\n      <td>Nissan</td>\n      <td>Van</td>\n      <td>1990</td>\n      <td>regular unleaded</td>\n      <td>106.0</td>\n      <td>4.0</td>\n      <td>MANUAL</td>\n      <td>rear wheel drive</td>\n      <td>3.0</td>\n      <td>NaN</td>\n      <td>Compact</td>\n      <td>Passenger Minivan</td>\n      <td>20</td>\n      <td>16</td>\n      <td>2009</td>\n      <td>2000</td>\n    </tr>\n    <tr>\n      <th>11214</th>\n      <td>Mitsubishi</td>\n      <td>Vanwagon</td>\n      <td>1990</td>\n      <td>regular unleaded</td>\n      <td>107.0</td>\n      <td>4.0</td>\n      <td>AUTOMATIC</td>\n      <td>rear wheel drive</td>\n      <td>3.0</td>\n      <td>NaN</td>\n      <td>Compact</td>\n      <td>Passenger Minivan</td>\n      <td>19</td>\n      <td>16</td>\n      <td>436</td>\n      <td>2000</td>\n    </tr>\n    <tr>\n      <th>11215</th>\n      <td>Mitsubishi</td>\n      <td>Vanwagon</td>\n      <td>1990</td>\n      <td>regular unleaded</td>\n      <td>107.0</td>\n      <td>4.0</td>\n      <td>AUTOMATIC</td>\n      <td>rear wheel drive</td>\n      <td>3.0</td>\n      <td>NaN</td>\n      <td>Compact</td>\n      <td>Cargo Minivan</td>\n      <td>20</td>\n      <td>18</td>\n      <td>436</td>\n      <td>2000</td>\n    </tr>\n  </tbody>\n</table>\n<p>11914 rows × 16 columns</p>\n</div>"
     },
     "metadata": {}
    }
   ]
  },
  {
   "cell_type": "markdown",
   "source": "We can see there are differences when adding the mergesort algorithm.",
   "metadata": {
    "formattedRanges": [],
    "cell_id": "fe2fef8d6f3e440c8800b7f2c77dc8e5",
    "tags": [],
    "is_collapsed": false,
    "deepnote_cell_type": "text-cell-p"
   }
  },
  {
   "cell_type": "markdown",
   "source": "## Sorting multiples columns",
   "metadata": {
    "formattedRanges": [],
    "cell_id": "d26cd41a64ec485b9682cbdcee9228dc",
    "tags": [],
    "is_collapsed": false,
    "deepnote_cell_type": "text-cell-h2"
   }
  },
  {
   "cell_type": "code",
   "metadata": {
    "cell_id": "d2f0ab9ce51c47c08981dc7c76d15085",
    "tags": [],
    "deepnote_to_be_reexecuted": false,
    "source_hash": "6ba85c26",
    "execution_start": 1654688661644,
    "execution_millis": 38,
    "deepnote_cell_type": "code",
    "deepnote_cell_height": 636
   },
   "source": " df.sort_values(\n     by=[\"Make\", \"Model\"]\n)[[\"Make\", \"Model\"]]",
   "execution_count": 7,
   "outputs": [
    {
     "output_type": "execute_result",
     "execution_count": 7,
     "data": {
      "application/vnd.deepnote.dataframe.v3+json": {
       "column_count": 2,
       "row_count": 11914,
       "columns": [
        {
         "name": "Make",
         "dtype": "object",
         "stats": {
          "unique_count": 48,
          "nan_count": 0,
          "categories": [
           {
            "name": "Chevrolet",
            "count": 1123
           },
           {
            "name": "Ford",
            "count": 881
           },
           {
            "name": "46 others",
            "count": 9910
           }
          ]
         }
        },
        {
         "name": "Model",
         "dtype": "object",
         "stats": {
          "unique_count": 915,
          "nan_count": 0,
          "categories": [
           {
            "name": "Silverado 1500",
            "count": 156
           },
           {
            "name": "Tundra",
            "count": 140
           },
           {
            "name": "913 others",
            "count": 11618
           }
          ]
         }
        },
        {
         "name": "_deepnote_index_column",
         "dtype": "int64"
        }
       ],
       "rows": [
        {
         "Make": "Acura",
         "Model": "CL",
         "_deepnote_index_column": 2696
        },
        {
         "Make": "Acura",
         "Model": "CL",
         "_deepnote_index_column": 2697
        },
        {
         "Make": "Acura",
         "Model": "CL",
         "_deepnote_index_column": 2698
        },
        {
         "Make": "Acura",
         "Model": "CL",
         "_deepnote_index_column": 2699
        },
        {
         "Make": "Acura",
         "Model": "CL",
         "_deepnote_index_column": 2700
        },
        {
         "Make": "Acura",
         "Model": "CL",
         "_deepnote_index_column": 2701
        },
        {
         "Make": "Acura",
         "Model": "CL",
         "_deepnote_index_column": 2702
        },
        {
         "Make": "Acura",
         "Model": "CL",
         "_deepnote_index_column": 2703
        },
        {
         "Make": "Acura",
         "Model": "CL",
         "_deepnote_index_column": 2704
        },
        {
         "Make": "Acura",
         "Model": "ILX",
         "_deepnote_index_column": 5798
        }
       ]
      },
      "text/plain": "        Make Model\n2696   Acura    CL\n2697   Acura    CL\n2698   Acura    CL\n2699   Acura    CL\n2700   Acura    CL\n...      ...   ...\n11635  Volvo  XC90\n11636  Volvo  XC90\n11637  Volvo  XC90\n11638  Volvo  XC90\n11639  Volvo  XC90\n\n[11914 rows x 2 columns]",
      "text/html": "<div>\n<style scoped>\n    .dataframe tbody tr th:only-of-type {\n        vertical-align: middle;\n    }\n\n    .dataframe tbody tr th {\n        vertical-align: top;\n    }\n\n    .dataframe thead th {\n        text-align: right;\n    }\n</style>\n<table border=\"1\" class=\"dataframe\">\n  <thead>\n    <tr style=\"text-align: right;\">\n      <th></th>\n      <th>Make</th>\n      <th>Model</th>\n    </tr>\n  </thead>\n  <tbody>\n    <tr>\n      <th>2696</th>\n      <td>Acura</td>\n      <td>CL</td>\n    </tr>\n    <tr>\n      <th>2697</th>\n      <td>Acura</td>\n      <td>CL</td>\n    </tr>\n    <tr>\n      <th>2698</th>\n      <td>Acura</td>\n      <td>CL</td>\n    </tr>\n    <tr>\n      <th>2699</th>\n      <td>Acura</td>\n      <td>CL</td>\n    </tr>\n    <tr>\n      <th>2700</th>\n      <td>Acura</td>\n      <td>CL</td>\n    </tr>\n    <tr>\n      <th>...</th>\n      <td>...</td>\n      <td>...</td>\n    </tr>\n    <tr>\n      <th>11635</th>\n      <td>Volvo</td>\n      <td>XC90</td>\n    </tr>\n    <tr>\n      <th>11636</th>\n      <td>Volvo</td>\n      <td>XC90</td>\n    </tr>\n    <tr>\n      <th>11637</th>\n      <td>Volvo</td>\n      <td>XC90</td>\n    </tr>\n    <tr>\n      <th>11638</th>\n      <td>Volvo</td>\n      <td>XC90</td>\n    </tr>\n    <tr>\n      <th>11639</th>\n      <td>Volvo</td>\n      <td>XC90</td>\n    </tr>\n  </tbody>\n</table>\n<p>11914 rows × 2 columns</p>\n</div>"
     },
     "metadata": {}
    }
   ]
  },
  {
   "cell_type": "markdown",
   "source": "We can sort different columns and add different sorting order in pandas",
   "metadata": {
    "formattedRanges": [],
    "cell_id": "69c4db04642c4025996faae581ce9567",
    "tags": [],
    "is_collapsed": false,
    "deepnote_cell_type": "text-cell-p"
   }
  },
  {
   "cell_type": "code",
   "metadata": {
    "cell_id": "1a3e52fa8b2b45f894d807f47df66e24",
    "tags": [],
    "deepnote_to_be_reexecuted": false,
    "source_hash": "dc2adfb1",
    "execution_start": 1654688661733,
    "execution_millis": 45,
    "deepnote_cell_type": "code",
    "deepnote_cell_height": 654
   },
   "source": "df.sort_values(\n     by=[\"Make\", \"Model\", \"Year\", \"Popularity\"],\n     ascending = [True, False, True, True]\n)[[\"Make\", \"Model\", \"Year\", \"Popularity\"]]",
   "execution_count": 8,
   "outputs": [
    {
     "output_type": "execute_result",
     "execution_count": 8,
     "data": {
      "application/vnd.deepnote.dataframe.v3+json": {
       "column_count": 4,
       "row_count": 11914,
       "columns": [
        {
         "name": "Make",
         "dtype": "object",
         "stats": {
          "unique_count": 48,
          "nan_count": 0,
          "categories": [
           {
            "name": "Chevrolet",
            "count": 1123
           },
           {
            "name": "Ford",
            "count": 881
           },
           {
            "name": "46 others",
            "count": 9910
           }
          ]
         }
        },
        {
         "name": "Model",
         "dtype": "object",
         "stats": {
          "unique_count": 915,
          "nan_count": 0,
          "categories": [
           {
            "name": "Silverado 1500",
            "count": 156
           },
           {
            "name": "Tundra",
            "count": 140
           },
           {
            "name": "913 others",
            "count": 11618
           }
          ]
         }
        },
        {
         "name": "Year",
         "dtype": "int64",
         "stats": {
          "unique_count": 28,
          "nan_count": 0,
          "min": "1990",
          "max": "2017",
          "histogram": [
           {
            "bin_start": 1990,
            "bin_end": 1992.7,
            "count": 452
           },
           {
            "bin_start": 1992.7,
            "bin_end": 1995.4,
            "count": 507
           },
           {
            "bin_start": 1995.4,
            "bin_end": 1998.1,
            "count": 460
           },
           {
            "bin_start": 1998.1,
            "bin_end": 2000.8,
            "count": 238
           },
           {
            "bin_start": 2000.8,
            "bin_end": 2003.5,
            "count": 611
           },
           {
            "bin_start": 2003.5,
            "bin_end": 2006.2,
            "count": 653
           },
           {
            "bin_start": 2006.2,
            "bin_end": 2008.9,
            "count": 694
           },
           {
            "bin_start": 2008.9,
            "bin_end": 2011.6,
            "count": 962
           },
           {
            "bin_start": 2011.6,
            "bin_end": 2014.3,
            "count": 1342
           },
           {
            "bin_start": 2014.3,
            "bin_end": 2017,
            "count": 5995
           }
          ]
         }
        },
        {
         "name": "Popularity",
         "dtype": "int64",
         "stats": {
          "unique_count": 48,
          "nan_count": 0,
          "min": "2",
          "max": "5657",
          "histogram": [
           {
            "bin_start": 2,
            "bin_end": 567.5,
            "count": 3260
           },
           {
            "bin_start": 567.5,
            "bin_end": 1133,
            "count": 2403
           },
           {
            "bin_start": 1133,
            "bin_end": 1698.5,
            "count": 1893
           },
           {
            "bin_start": 1698.5,
            "bin_end": 2264,
            "count": 2746
           },
           {
            "bin_start": 2264,
            "bin_end": 2829.5,
            "count": 69
           },
           {
            "bin_start": 2829.5,
            "bin_end": 3395,
            "count": 328
           },
           {
            "bin_start": 3395,
            "bin_end": 3960.5,
            "count": 334
           },
           {
            "bin_start": 3960.5,
            "bin_end": 4526,
            "count": 0
           },
           {
            "bin_start": 4526,
            "bin_end": 5091.5,
            "count": 0
           },
           {
            "bin_start": 5091.5,
            "bin_end": 5657,
            "count": 881
           }
          ]
         }
        },
        {
         "name": "_deepnote_index_column",
         "dtype": "int64"
        }
       ],
       "rows": [
        {
         "Make": "Acura",
         "Model": "ZDX",
         "Year": 2011,
         "Popularity": 204,
         "_deepnote_index_column": 11906
        },
        {
         "Make": "Acura",
         "Model": "ZDX",
         "Year": 2011,
         "Popularity": 204,
         "_deepnote_index_column": 11907
        },
        {
         "Make": "Acura",
         "Model": "ZDX",
         "Year": 2011,
         "Popularity": 204,
         "_deepnote_index_column": 11908
        },
        {
         "Make": "Acura",
         "Model": "ZDX",
         "Year": 2012,
         "Popularity": 204,
         "_deepnote_index_column": 11909
        },
        {
         "Make": "Acura",
         "Model": "ZDX",
         "Year": 2012,
         "Popularity": 204,
         "_deepnote_index_column": 11910
        },
        {
         "Make": "Acura",
         "Model": "ZDX",
         "Year": 2012,
         "Popularity": 204,
         "_deepnote_index_column": 11911
        },
        {
         "Make": "Acura",
         "Model": "ZDX",
         "Year": 2013,
         "Popularity": 204,
         "_deepnote_index_column": 11912
        },
        {
         "Make": "Acura",
         "Model": "Vigor",
         "Year": 1992,
         "Popularity": 204,
         "_deepnote_index_column": 11374
        },
        {
         "Make": "Acura",
         "Model": "Vigor",
         "Year": 1992,
         "Popularity": 204,
         "_deepnote_index_column": 11375
        },
        {
         "Make": "Acura",
         "Model": "Vigor",
         "Year": 1993,
         "Popularity": 204,
         "_deepnote_index_column": 11376
        }
       ]
      },
      "text/plain": "        Make Model  Year  Popularity\n11906  Acura   ZDX  2011         204\n11907  Acura   ZDX  2011         204\n11908  Acura   ZDX  2011         204\n11909  Acura   ZDX  2012         204\n11910  Acura   ZDX  2012         204\n...      ...   ...   ...         ...\n107    Volvo   240  1992         870\n108    Volvo   240  1992         870\n109    Volvo   240  1992         870\n110    Volvo   240  1993         870\n111    Volvo   240  1993         870\n\n[11914 rows x 4 columns]",
      "text/html": "<div>\n<style scoped>\n    .dataframe tbody tr th:only-of-type {\n        vertical-align: middle;\n    }\n\n    .dataframe tbody tr th {\n        vertical-align: top;\n    }\n\n    .dataframe thead th {\n        text-align: right;\n    }\n</style>\n<table border=\"1\" class=\"dataframe\">\n  <thead>\n    <tr style=\"text-align: right;\">\n      <th></th>\n      <th>Make</th>\n      <th>Model</th>\n      <th>Year</th>\n      <th>Popularity</th>\n    </tr>\n  </thead>\n  <tbody>\n    <tr>\n      <th>11906</th>\n      <td>Acura</td>\n      <td>ZDX</td>\n      <td>2011</td>\n      <td>204</td>\n    </tr>\n    <tr>\n      <th>11907</th>\n      <td>Acura</td>\n      <td>ZDX</td>\n      <td>2011</td>\n      <td>204</td>\n    </tr>\n    <tr>\n      <th>11908</th>\n      <td>Acura</td>\n      <td>ZDX</td>\n      <td>2011</td>\n      <td>204</td>\n    </tr>\n    <tr>\n      <th>11909</th>\n      <td>Acura</td>\n      <td>ZDX</td>\n      <td>2012</td>\n      <td>204</td>\n    </tr>\n    <tr>\n      <th>11910</th>\n      <td>Acura</td>\n      <td>ZDX</td>\n      <td>2012</td>\n      <td>204</td>\n    </tr>\n    <tr>\n      <th>...</th>\n      <td>...</td>\n      <td>...</td>\n      <td>...</td>\n      <td>...</td>\n    </tr>\n    <tr>\n      <th>107</th>\n      <td>Volvo</td>\n      <td>240</td>\n      <td>1992</td>\n      <td>870</td>\n    </tr>\n    <tr>\n      <th>108</th>\n      <td>Volvo</td>\n      <td>240</td>\n      <td>1992</td>\n      <td>870</td>\n    </tr>\n    <tr>\n      <th>109</th>\n      <td>Volvo</td>\n      <td>240</td>\n      <td>1992</td>\n      <td>870</td>\n    </tr>\n    <tr>\n      <th>110</th>\n      <td>Volvo</td>\n      <td>240</td>\n      <td>1993</td>\n      <td>870</td>\n    </tr>\n    <tr>\n      <th>111</th>\n      <td>Volvo</td>\n      <td>240</td>\n      <td>1993</td>\n      <td>870</td>\n    </tr>\n  </tbody>\n</table>\n<p>11914 rows × 4 columns</p>\n</div>"
     },
     "metadata": {}
    }
   ]
  },
  {
   "cell_type": "markdown",
   "source": "## Sorting by index: .sort_index()",
   "metadata": {
    "formattedRanges": [],
    "cell_id": "8c5e3c9618bb461b908b864ad1fde028",
    "tags": [],
    "is_collapsed": false,
    "deepnote_cell_type": "text-cell-h2"
   }
  },
  {
   "cell_type": "markdown",
   "source": "To sort by index let's first assign our previsious sorted data to a new DataFrame called sort_df",
   "metadata": {
    "formattedRanges": [],
    "cell_id": "e437766a5c6d4ab5afb89a59ab9c211a",
    "tags": [],
    "is_collapsed": false,
    "deepnote_cell_type": "text-cell-p"
   }
  },
  {
   "cell_type": "code",
   "metadata": {
    "cell_id": "742de6a2d8b24081a01dca8a18defff4",
    "tags": [],
    "deepnote_to_be_reexecuted": false,
    "source_hash": "47cec9c2",
    "execution_start": 1654688661778,
    "execution_millis": 57,
    "deepnote_cell_type": "code",
    "deepnote_cell_height": 672
   },
   "source": "sort_df = df.sort_values(\n     by=[\"Make\", \"Model\", \"Year\", \"Popularity\"],\n     ascending = [True, False, True, True]\n)[[\"Make\", \"Model\", \"Year\", \"Popularity\"]]\nsort_df",
   "execution_count": 9,
   "outputs": [
    {
     "output_type": "execute_result",
     "execution_count": 9,
     "data": {
      "application/vnd.deepnote.dataframe.v3+json": {
       "column_count": 4,
       "row_count": 11914,
       "columns": [
        {
         "name": "Make",
         "dtype": "object",
         "stats": {
          "unique_count": 48,
          "nan_count": 0,
          "categories": [
           {
            "name": "Chevrolet",
            "count": 1123
           },
           {
            "name": "Ford",
            "count": 881
           },
           {
            "name": "46 others",
            "count": 9910
           }
          ]
         }
        },
        {
         "name": "Model",
         "dtype": "object",
         "stats": {
          "unique_count": 915,
          "nan_count": 0,
          "categories": [
           {
            "name": "Silverado 1500",
            "count": 156
           },
           {
            "name": "Tundra",
            "count": 140
           },
           {
            "name": "913 others",
            "count": 11618
           }
          ]
         }
        },
        {
         "name": "Year",
         "dtype": "int64",
         "stats": {
          "unique_count": 28,
          "nan_count": 0,
          "min": "1990",
          "max": "2017",
          "histogram": [
           {
            "bin_start": 1990,
            "bin_end": 1992.7,
            "count": 452
           },
           {
            "bin_start": 1992.7,
            "bin_end": 1995.4,
            "count": 507
           },
           {
            "bin_start": 1995.4,
            "bin_end": 1998.1,
            "count": 460
           },
           {
            "bin_start": 1998.1,
            "bin_end": 2000.8,
            "count": 238
           },
           {
            "bin_start": 2000.8,
            "bin_end": 2003.5,
            "count": 611
           },
           {
            "bin_start": 2003.5,
            "bin_end": 2006.2,
            "count": 653
           },
           {
            "bin_start": 2006.2,
            "bin_end": 2008.9,
            "count": 694
           },
           {
            "bin_start": 2008.9,
            "bin_end": 2011.6,
            "count": 962
           },
           {
            "bin_start": 2011.6,
            "bin_end": 2014.3,
            "count": 1342
           },
           {
            "bin_start": 2014.3,
            "bin_end": 2017,
            "count": 5995
           }
          ]
         }
        },
        {
         "name": "Popularity",
         "dtype": "int64",
         "stats": {
          "unique_count": 48,
          "nan_count": 0,
          "min": "2",
          "max": "5657",
          "histogram": [
           {
            "bin_start": 2,
            "bin_end": 567.5,
            "count": 3260
           },
           {
            "bin_start": 567.5,
            "bin_end": 1133,
            "count": 2403
           },
           {
            "bin_start": 1133,
            "bin_end": 1698.5,
            "count": 1893
           },
           {
            "bin_start": 1698.5,
            "bin_end": 2264,
            "count": 2746
           },
           {
            "bin_start": 2264,
            "bin_end": 2829.5,
            "count": 69
           },
           {
            "bin_start": 2829.5,
            "bin_end": 3395,
            "count": 328
           },
           {
            "bin_start": 3395,
            "bin_end": 3960.5,
            "count": 334
           },
           {
            "bin_start": 3960.5,
            "bin_end": 4526,
            "count": 0
           },
           {
            "bin_start": 4526,
            "bin_end": 5091.5,
            "count": 0
           },
           {
            "bin_start": 5091.5,
            "bin_end": 5657,
            "count": 881
           }
          ]
         }
        },
        {
         "name": "_deepnote_index_column",
         "dtype": "int64"
        }
       ],
       "rows": [
        {
         "Make": "Acura",
         "Model": "ZDX",
         "Year": 2011,
         "Popularity": 204,
         "_deepnote_index_column": 11906
        },
        {
         "Make": "Acura",
         "Model": "ZDX",
         "Year": 2011,
         "Popularity": 204,
         "_deepnote_index_column": 11907
        },
        {
         "Make": "Acura",
         "Model": "ZDX",
         "Year": 2011,
         "Popularity": 204,
         "_deepnote_index_column": 11908
        },
        {
         "Make": "Acura",
         "Model": "ZDX",
         "Year": 2012,
         "Popularity": 204,
         "_deepnote_index_column": 11909
        },
        {
         "Make": "Acura",
         "Model": "ZDX",
         "Year": 2012,
         "Popularity": 204,
         "_deepnote_index_column": 11910
        },
        {
         "Make": "Acura",
         "Model": "ZDX",
         "Year": 2012,
         "Popularity": 204,
         "_deepnote_index_column": 11911
        },
        {
         "Make": "Acura",
         "Model": "ZDX",
         "Year": 2013,
         "Popularity": 204,
         "_deepnote_index_column": 11912
        },
        {
         "Make": "Acura",
         "Model": "Vigor",
         "Year": 1992,
         "Popularity": 204,
         "_deepnote_index_column": 11374
        },
        {
         "Make": "Acura",
         "Model": "Vigor",
         "Year": 1992,
         "Popularity": 204,
         "_deepnote_index_column": 11375
        },
        {
         "Make": "Acura",
         "Model": "Vigor",
         "Year": 1993,
         "Popularity": 204,
         "_deepnote_index_column": 11376
        }
       ]
      },
      "text/plain": "        Make Model  Year  Popularity\n11906  Acura   ZDX  2011         204\n11907  Acura   ZDX  2011         204\n11908  Acura   ZDX  2011         204\n11909  Acura   ZDX  2012         204\n11910  Acura   ZDX  2012         204\n...      ...   ...   ...         ...\n107    Volvo   240  1992         870\n108    Volvo   240  1992         870\n109    Volvo   240  1992         870\n110    Volvo   240  1993         870\n111    Volvo   240  1993         870\n\n[11914 rows x 4 columns]",
      "text/html": "<div>\n<style scoped>\n    .dataframe tbody tr th:only-of-type {\n        vertical-align: middle;\n    }\n\n    .dataframe tbody tr th {\n        vertical-align: top;\n    }\n\n    .dataframe thead th {\n        text-align: right;\n    }\n</style>\n<table border=\"1\" class=\"dataframe\">\n  <thead>\n    <tr style=\"text-align: right;\">\n      <th></th>\n      <th>Make</th>\n      <th>Model</th>\n      <th>Year</th>\n      <th>Popularity</th>\n    </tr>\n  </thead>\n  <tbody>\n    <tr>\n      <th>11906</th>\n      <td>Acura</td>\n      <td>ZDX</td>\n      <td>2011</td>\n      <td>204</td>\n    </tr>\n    <tr>\n      <th>11907</th>\n      <td>Acura</td>\n      <td>ZDX</td>\n      <td>2011</td>\n      <td>204</td>\n    </tr>\n    <tr>\n      <th>11908</th>\n      <td>Acura</td>\n      <td>ZDX</td>\n      <td>2011</td>\n      <td>204</td>\n    </tr>\n    <tr>\n      <th>11909</th>\n      <td>Acura</td>\n      <td>ZDX</td>\n      <td>2012</td>\n      <td>204</td>\n    </tr>\n    <tr>\n      <th>11910</th>\n      <td>Acura</td>\n      <td>ZDX</td>\n      <td>2012</td>\n      <td>204</td>\n    </tr>\n    <tr>\n      <th>...</th>\n      <td>...</td>\n      <td>...</td>\n      <td>...</td>\n      <td>...</td>\n    </tr>\n    <tr>\n      <th>107</th>\n      <td>Volvo</td>\n      <td>240</td>\n      <td>1992</td>\n      <td>870</td>\n    </tr>\n    <tr>\n      <th>108</th>\n      <td>Volvo</td>\n      <td>240</td>\n      <td>1992</td>\n      <td>870</td>\n    </tr>\n    <tr>\n      <th>109</th>\n      <td>Volvo</td>\n      <td>240</td>\n      <td>1992</td>\n      <td>870</td>\n    </tr>\n    <tr>\n      <th>110</th>\n      <td>Volvo</td>\n      <td>240</td>\n      <td>1993</td>\n      <td>870</td>\n    </tr>\n    <tr>\n      <th>111</th>\n      <td>Volvo</td>\n      <td>240</td>\n      <td>1993</td>\n      <td>870</td>\n    </tr>\n  </tbody>\n</table>\n<p>11914 rows × 4 columns</p>\n</div>"
     },
     "metadata": {}
    }
   ]
  },
  {
   "cell_type": "markdown",
   "source": "Now let's sort our new DataFrame sort_df by index and see how it looks like",
   "metadata": {
    "formattedRanges": [],
    "cell_id": "27856ba1a90444f58acc0045f37acad6",
    "tags": [],
    "is_collapsed": false,
    "deepnote_cell_type": "text-cell-p"
   }
  },
  {
   "cell_type": "code",
   "metadata": {
    "cell_id": "8046411a0ddb4e62adbda78e2714c643",
    "tags": [],
    "deepnote_to_be_reexecuted": false,
    "source_hash": "ef703d2e",
    "execution_start": 1654688661839,
    "execution_millis": 59,
    "deepnote_cell_type": "code",
    "deepnote_cell_height": 600
   },
   "source": "sort_df.sort_index()",
   "execution_count": 10,
   "outputs": [
    {
     "output_type": "execute_result",
     "execution_count": 10,
     "data": {
      "application/vnd.deepnote.dataframe.v3+json": {
       "column_count": 4,
       "row_count": 11914,
       "columns": [
        {
         "name": "Make",
         "dtype": "object",
         "stats": {
          "unique_count": 48,
          "nan_count": 0,
          "categories": [
           {
            "name": "Chevrolet",
            "count": 1123
           },
           {
            "name": "Ford",
            "count": 881
           },
           {
            "name": "46 others",
            "count": 9910
           }
          ]
         }
        },
        {
         "name": "Model",
         "dtype": "object",
         "stats": {
          "unique_count": 915,
          "nan_count": 0,
          "categories": [
           {
            "name": "Silverado 1500",
            "count": 156
           },
           {
            "name": "Tundra",
            "count": 140
           },
           {
            "name": "913 others",
            "count": 11618
           }
          ]
         }
        },
        {
         "name": "Year",
         "dtype": "int64",
         "stats": {
          "unique_count": 28,
          "nan_count": 0,
          "min": "1990",
          "max": "2017",
          "histogram": [
           {
            "bin_start": 1990,
            "bin_end": 1992.7,
            "count": 452
           },
           {
            "bin_start": 1992.7,
            "bin_end": 1995.4,
            "count": 507
           },
           {
            "bin_start": 1995.4,
            "bin_end": 1998.1,
            "count": 460
           },
           {
            "bin_start": 1998.1,
            "bin_end": 2000.8,
            "count": 238
           },
           {
            "bin_start": 2000.8,
            "bin_end": 2003.5,
            "count": 611
           },
           {
            "bin_start": 2003.5,
            "bin_end": 2006.2,
            "count": 653
           },
           {
            "bin_start": 2006.2,
            "bin_end": 2008.9,
            "count": 694
           },
           {
            "bin_start": 2008.9,
            "bin_end": 2011.6,
            "count": 962
           },
           {
            "bin_start": 2011.6,
            "bin_end": 2014.3,
            "count": 1342
           },
           {
            "bin_start": 2014.3,
            "bin_end": 2017,
            "count": 5995
           }
          ]
         }
        },
        {
         "name": "Popularity",
         "dtype": "int64",
         "stats": {
          "unique_count": 48,
          "nan_count": 0,
          "min": "2",
          "max": "5657",
          "histogram": [
           {
            "bin_start": 2,
            "bin_end": 567.5,
            "count": 3260
           },
           {
            "bin_start": 567.5,
            "bin_end": 1133,
            "count": 2403
           },
           {
            "bin_start": 1133,
            "bin_end": 1698.5,
            "count": 1893
           },
           {
            "bin_start": 1698.5,
            "bin_end": 2264,
            "count": 2746
           },
           {
            "bin_start": 2264,
            "bin_end": 2829.5,
            "count": 69
           },
           {
            "bin_start": 2829.5,
            "bin_end": 3395,
            "count": 328
           },
           {
            "bin_start": 3395,
            "bin_end": 3960.5,
            "count": 334
           },
           {
            "bin_start": 3960.5,
            "bin_end": 4526,
            "count": 0
           },
           {
            "bin_start": 4526,
            "bin_end": 5091.5,
            "count": 0
           },
           {
            "bin_start": 5091.5,
            "bin_end": 5657,
            "count": 881
           }
          ]
         }
        },
        {
         "name": "_deepnote_index_column",
         "dtype": "int64"
        }
       ],
       "rows": [
        {
         "Make": "BMW",
         "Model": "1 Series M",
         "Year": 2011,
         "Popularity": 3916,
         "_deepnote_index_column": 0
        },
        {
         "Make": "BMW",
         "Model": "1 Series",
         "Year": 2011,
         "Popularity": 3916,
         "_deepnote_index_column": 1
        },
        {
         "Make": "BMW",
         "Model": "1 Series",
         "Year": 2011,
         "Popularity": 3916,
         "_deepnote_index_column": 2
        },
        {
         "Make": "BMW",
         "Model": "1 Series",
         "Year": 2011,
         "Popularity": 3916,
         "_deepnote_index_column": 3
        },
        {
         "Make": "BMW",
         "Model": "1 Series",
         "Year": 2011,
         "Popularity": 3916,
         "_deepnote_index_column": 4
        },
        {
         "Make": "BMW",
         "Model": "1 Series",
         "Year": 2012,
         "Popularity": 3916,
         "_deepnote_index_column": 5
        },
        {
         "Make": "BMW",
         "Model": "1 Series",
         "Year": 2012,
         "Popularity": 3916,
         "_deepnote_index_column": 6
        },
        {
         "Make": "BMW",
         "Model": "1 Series",
         "Year": 2012,
         "Popularity": 3916,
         "_deepnote_index_column": 7
        },
        {
         "Make": "BMW",
         "Model": "1 Series",
         "Year": 2012,
         "Popularity": 3916,
         "_deepnote_index_column": 8
        },
        {
         "Make": "BMW",
         "Model": "1 Series",
         "Year": 2013,
         "Popularity": 3916,
         "_deepnote_index_column": 9
        }
       ]
      },
      "text/plain": "          Make       Model  Year  Popularity\n0          BMW  1 Series M  2011        3916\n1          BMW    1 Series  2011        3916\n2          BMW    1 Series  2011        3916\n3          BMW    1 Series  2011        3916\n4          BMW    1 Series  2011        3916\n...        ...         ...   ...         ...\n11909    Acura         ZDX  2012         204\n11910    Acura         ZDX  2012         204\n11911    Acura         ZDX  2012         204\n11912    Acura         ZDX  2013         204\n11913  Lincoln      Zephyr  2006          61\n\n[11914 rows x 4 columns]",
      "text/html": "<div>\n<style scoped>\n    .dataframe tbody tr th:only-of-type {\n        vertical-align: middle;\n    }\n\n    .dataframe tbody tr th {\n        vertical-align: top;\n    }\n\n    .dataframe thead th {\n        text-align: right;\n    }\n</style>\n<table border=\"1\" class=\"dataframe\">\n  <thead>\n    <tr style=\"text-align: right;\">\n      <th></th>\n      <th>Make</th>\n      <th>Model</th>\n      <th>Year</th>\n      <th>Popularity</th>\n    </tr>\n  </thead>\n  <tbody>\n    <tr>\n      <th>0</th>\n      <td>BMW</td>\n      <td>1 Series M</td>\n      <td>2011</td>\n      <td>3916</td>\n    </tr>\n    <tr>\n      <th>1</th>\n      <td>BMW</td>\n      <td>1 Series</td>\n      <td>2011</td>\n      <td>3916</td>\n    </tr>\n    <tr>\n      <th>2</th>\n      <td>BMW</td>\n      <td>1 Series</td>\n      <td>2011</td>\n      <td>3916</td>\n    </tr>\n    <tr>\n      <th>3</th>\n      <td>BMW</td>\n      <td>1 Series</td>\n      <td>2011</td>\n      <td>3916</td>\n    </tr>\n    <tr>\n      <th>4</th>\n      <td>BMW</td>\n      <td>1 Series</td>\n      <td>2011</td>\n      <td>3916</td>\n    </tr>\n    <tr>\n      <th>...</th>\n      <td>...</td>\n      <td>...</td>\n      <td>...</td>\n      <td>...</td>\n    </tr>\n    <tr>\n      <th>11909</th>\n      <td>Acura</td>\n      <td>ZDX</td>\n      <td>2012</td>\n      <td>204</td>\n    </tr>\n    <tr>\n      <th>11910</th>\n      <td>Acura</td>\n      <td>ZDX</td>\n      <td>2012</td>\n      <td>204</td>\n    </tr>\n    <tr>\n      <th>11911</th>\n      <td>Acura</td>\n      <td>ZDX</td>\n      <td>2012</td>\n      <td>204</td>\n    </tr>\n    <tr>\n      <th>11912</th>\n      <td>Acura</td>\n      <td>ZDX</td>\n      <td>2013</td>\n      <td>204</td>\n    </tr>\n    <tr>\n      <th>11913</th>\n      <td>Lincoln</td>\n      <td>Zephyr</td>\n      <td>2006</td>\n      <td>61</td>\n    </tr>\n  </tbody>\n</table>\n<p>11914 rows × 4 columns</p>\n</div>"
     },
     "metadata": {}
    }
   ]
  },
  {
   "cell_type": "markdown",
   "source": "## Imputing missing values in pandas",
   "metadata": {
    "formattedRanges": [],
    "cell_id": "cc063193b83e4c4fbedc1afa1dc9465c",
    "tags": [],
    "is_collapsed": false,
    "deepnote_cell_type": "text-cell-h2"
   }
  },
  {
   "cell_type": "markdown",
   "source": "Let's see if our dataset contains missing values",
   "metadata": {
    "formattedRanges": [],
    "cell_id": "78359f9016b84fc3961f8473701b1723",
    "tags": [],
    "is_collapsed": false,
    "deepnote_cell_type": "text-cell-p"
   }
  },
  {
   "cell_type": "code",
   "metadata": {
    "cell_id": "09e54e96e8c245fca73a1392fab94d15",
    "tags": [],
    "deepnote_to_be_reexecuted": false,
    "source_hash": "f3dd26da",
    "execution_start": 1654688661908,
    "execution_millis": 14,
    "deepnote_cell_type": "code",
    "deepnote_cell_height": 425.375,
    "deepnote_output_heights": [
     328.390625
    ]
   },
   "source": "df.isnull().sum()",
   "execution_count": 11,
   "outputs": [
    {
     "output_type": "execute_result",
     "execution_count": 11,
     "data": {
      "text/plain": "Make                    0\nModel                   0\nYear                    0\nEngine Fuel Type        3\nEngine HP              69\nEngine Cylinders       30\nTransmission Type       0\nDriven_Wheels           0\nNumber of Doors         6\nMarket Category      3742\nVehicle Size            0\nVehicle Style           0\nhighway MPG             0\ncity mpg                0\nPopularity              0\nMSRP                    0\ndtype: int64"
     },
     "metadata": {}
    }
   ]
  },
  {
   "cell_type": "markdown",
   "source": "We can see there are missing values in columns: Engine Fuel Type, Engine HP, Engine Cylinders, Number of Doors, Market Category.",
   "metadata": {
    "formattedRanges": [],
    "cell_id": "eb1fadada1434455ae6ae625308abda9",
    "tags": [],
    "is_collapsed": false,
    "deepnote_cell_type": "text-cell-p"
   }
  },
  {
   "cell_type": "markdown",
   "source": "Let's print out the percentage of missing values for each columns",
   "metadata": {
    "cell_id": "29d62444b90e4843b0204349241f584a",
    "tags": [],
    "is_collapsed": false,
    "formattedRanges": [],
    "deepnote_cell_type": "text-cell-p"
   }
  },
  {
   "cell_type": "code",
   "source": "percent_missing = round(df.isnull().sum() * 100 / len(df), 2)\npercent_missing",
   "metadata": {
    "cell_id": "bf392925ba5c4093a7b39f412c3f22de",
    "tags": [],
    "deepnote_to_be_reexecuted": false,
    "source_hash": "77eb830",
    "execution_start": 1654688785061,
    "execution_millis": 2,
    "deepnote_cell_type": "code",
    "deepnote_cell_height": 443.375,
    "deepnote_output_heights": [
     328.390625
    ]
   },
   "outputs": [
    {
     "output_type": "execute_result",
     "execution_count": 14,
     "data": {
      "text/plain": "Make                  0.00\nModel                 0.00\nYear                  0.00\nEngine Fuel Type      0.03\nEngine HP             0.58\nEngine Cylinders      0.25\nTransmission Type     0.00\nDriven_Wheels         0.00\nNumber of Doors       0.05\nMarket Category      31.41\nVehicle Size          0.00\nVehicle Style         0.00\nhighway MPG           0.00\ncity mpg              0.00\nPopularity            0.00\nMSRP                  0.00\ndtype: float64"
     },
     "metadata": {}
    }
   ],
   "execution_count": 14
  },
  {
   "cell_type": "markdown",
   "source": "We can see that market Category column has the heighest percentage of missing values over 31%.",
   "metadata": {
    "cell_id": "8bf605d711b04e189ec6903bc33bb25e",
    "tags": [],
    "is_collapsed": false,
    "formattedRanges": [],
    "deepnote_cell_type": "text-cell-p"
   }
  },
  {
   "cell_type": "markdown",
   "source": "Pandas gives us many technics to deal with missing values.",
   "metadata": {
    "cell_id": "2bb64582d99840ae82661df6581b7e93",
    "tags": [],
    "is_collapsed": false,
    "formattedRanges": [],
    "deepnote_cell_type": "text-cell-p"
   }
  },
  {
   "cell_type": "markdown",
   "source": "We can fill missing values or just drop them using fillna or drop functions.",
   "metadata": {
    "cell_id": "2ebb67b31d064b55ab163118c15307f1",
    "tags": [],
    "is_collapsed": false,
    "formattedRanges": [],
    "deepnote_cell_type": "text-cell-p"
   }
  },
  {
   "cell_type": "markdown",
   "source": "### Imputing missing values with zero",
   "metadata": {
    "cell_id": "b2abd04a90944c4b9401409e5e32b161",
    "tags": [],
    "is_collapsed": false,
    "formattedRanges": [],
    "deepnote_cell_type": "text-cell-h3"
   }
  },
  {
   "cell_type": "code",
   "source": "df_fill_na0 = df.fillna(0)\ndf_fill_na0.isnull().sum()",
   "metadata": {
    "cell_id": "067784d2ea6b4d03b9e2844d549e946d",
    "tags": [],
    "deepnote_to_be_reexecuted": false,
    "source_hash": "1f1b1812",
    "execution_start": 1654689558893,
    "execution_millis": 1,
    "deepnote_cell_type": "code",
    "deepnote_cell_height": 443.375,
    "deepnote_output_heights": [
     328.390625
    ]
   },
   "outputs": [
    {
     "output_type": "execute_result",
     "execution_count": 16,
     "data": {
      "text/plain": "Make                 0\nModel                0\nYear                 0\nEngine Fuel Type     0\nEngine HP            0\nEngine Cylinders     0\nTransmission Type    0\nDriven_Wheels        0\nNumber of Doors      0\nMarket Category      0\nVehicle Size         0\nVehicle Style        0\nhighway MPG          0\ncity mpg             0\nPopularity           0\nMSRP                 0\ndtype: int64"
     },
     "metadata": {}
    }
   ],
   "execution_count": 16
  },
  {
   "cell_type": "markdown",
   "source": "We can see all missing values are imputed by 0.",
   "metadata": {
    "cell_id": "24f62faa4e4b48d98a75ea512e12e24c",
    "tags": [],
    "is_collapsed": false,
    "formattedRanges": [],
    "deepnote_cell_type": "text-cell-p"
   }
  },
  {
   "cell_type": "markdown",
   "source": "## Fill NA Forward / Backward",
   "metadata": {
    "cell_id": "d3de86fd26154646b1962f0a8b46b834",
    "tags": [],
    "is_collapsed": false,
    "formattedRanges": [],
    "deepnote_cell_type": "text-cell-h2"
   }
  },
  {
   "cell_type": "markdown",
   "source": "### Fill NA forward: pad/fill",
   "metadata": {
    "cell_id": "fe5f8bcc0af644deabf66f1fe06b6566",
    "tags": [],
    "is_collapsed": false,
    "formattedRanges": [],
    "deepnote_cell_type": "text-cell-h3"
   }
  },
  {
   "cell_type": "code",
   "source": "df_pad = df.fillna(method='pad')\ndf_pad.isnull().sum()",
   "metadata": {
    "cell_id": "1ce729ae85b940f1afbaa2735fea4511",
    "tags": [],
    "deepnote_to_be_reexecuted": false,
    "source_hash": "ea54a34c",
    "execution_start": 1654689844645,
    "execution_millis": 144,
    "deepnote_cell_type": "code",
    "deepnote_cell_height": 443.375,
    "deepnote_output_heights": [
     328.390625
    ]
   },
   "outputs": [
    {
     "output_type": "execute_result",
     "execution_count": 17,
     "data": {
      "text/plain": "Make                 0\nModel                0\nYear                 0\nEngine Fuel Type     0\nEngine HP            0\nEngine Cylinders     0\nTransmission Type    0\nDriven_Wheels        0\nNumber of Doors      0\nMarket Category      0\nVehicle Size         0\nVehicle Style        0\nhighway MPG          0\ncity mpg             0\nPopularity           0\nMSRP                 0\ndtype: int64"
     },
     "metadata": {}
    }
   ],
   "execution_count": 17
  },
  {
   "cell_type": "markdown",
   "source": "There is no more missing value in the dataset. What does the pad method do ?",
   "metadata": {
    "cell_id": "2052e90125e54c9c84176c45652257ba",
    "tags": [],
    "is_collapsed": false,
    "formattedRanges": [],
    "deepnote_cell_type": "text-cell-p"
   }
  },
  {
   "cell_type": "markdown",
   "source": "For each row with NA values, the values of the intermediate row at the top have been used for filling in pad method.",
   "metadata": {
    "cell_id": "910b3f7bafcf48febadaa03a6d0aecd9",
    "tags": [],
    "is_collapsed": false,
    "formattedRanges": [],
    "deepnote_cell_type": "text-cell-p"
   }
  },
  {
   "cell_type": "markdown",
   "source": "### Fill NA backward: bfill/backfill",
   "metadata": {
    "cell_id": "186db56018fa4ce6a18e9b155cd16cc9",
    "tags": [],
    "is_collapsed": false,
    "formattedRanges": [],
    "deepnote_cell_type": "text-cell-h3"
   }
  },
  {
   "cell_type": "code",
   "source": "df_back = df.fillna(method='backfill')\ndf_back.isnull().sum()",
   "metadata": {
    "cell_id": "f20147a79d314d81992aebe61787fe22",
    "tags": [],
    "deepnote_to_be_reexecuted": false,
    "source_hash": "b1398182",
    "execution_start": 1654690195903,
    "execution_millis": 26,
    "deepnote_cell_type": "code",
    "deepnote_cell_height": 443.375,
    "deepnote_output_heights": [
     328.390625
    ]
   },
   "outputs": [
    {
     "output_type": "execute_result",
     "execution_count": 18,
     "data": {
      "text/plain": "Make                 0\nModel                0\nYear                 0\nEngine Fuel Type     0\nEngine HP            0\nEngine Cylinders     0\nTransmission Type    0\nDriven_Wheels        0\nNumber of Doors      0\nMarket Category      0\nVehicle Size         0\nVehicle Style        0\nhighway MPG          0\ncity mpg             0\nPopularity           0\nMSRP                 0\ndtype: int64"
     },
     "metadata": {}
    }
   ],
   "execution_count": 18
  },
  {
   "cell_type": "markdown",
   "source": "### Dropping missing values",
   "metadata": {
    "cell_id": "57e85864b7dc49658d6e1dcdad0c5b10",
    "tags": [],
    "is_collapsed": false,
    "formattedRanges": [],
    "deepnote_cell_type": "text-cell-h3"
   }
  },
  {
   "cell_type": "markdown",
   "source": "In other situations we can just drop missing values in the dataset. For exemple when the percentage of missing values is very small, we can think dropping missing values from the dataset or for just some columns, using the dropna() function.",
   "metadata": {
    "cell_id": "1ee7896763b04342afa744d7f28d2358",
    "tags": [],
    "is_collapsed": false,
    "formattedRanges": [],
    "deepnote_cell_type": "text-cell-p"
   }
  },
  {
   "cell_type": "code",
   "source": "df_dropna = df.dropna()\ndf_dropna.isnull().sum()",
   "metadata": {
    "cell_id": "f1fc683d70114f679cfc57b8ab5ea4e9",
    "tags": [],
    "deepnote_to_be_reexecuted": false,
    "source_hash": "3a96ce8f",
    "execution_start": 1654690516837,
    "execution_millis": 2,
    "deepnote_cell_type": "code",
    "deepnote_cell_height": 443.375,
    "deepnote_output_heights": [
     328.390625
    ]
   },
   "outputs": [
    {
     "output_type": "execute_result",
     "execution_count": 19,
     "data": {
      "text/plain": "Make                 0\nModel                0\nYear                 0\nEngine Fuel Type     0\nEngine HP            0\nEngine Cylinders     0\nTransmission Type    0\nDriven_Wheels        0\nNumber of Doors      0\nMarket Category      0\nVehicle Size         0\nVehicle Style        0\nhighway MPG          0\ncity mpg             0\nPopularity           0\nMSRP                 0\ndtype: int64"
     },
     "metadata": {}
    }
   ],
   "execution_count": 19
  },
  {
   "cell_type": "markdown",
   "source": "In the real life, we use a specific imputation method for each column based on the problem and the reason on missing values.",
   "metadata": {
    "cell_id": "87c4c1839c9e4f959b211c282e818973",
    "tags": [],
    "is_collapsed": false,
    "formattedRanges": [],
    "owner_user_id": "78b6ca6a-cf0c-42a3-b315-4d2982aaacae",
    "deepnote_cell_type": "text-cell-p"
   }
  },
  {
   "cell_type": "markdown",
   "source": "<a style='text-decoration:none;line-height:16px;display:flex;color:#5B5B62;padding:10px;justify-content:end;' href='https://deepnote.com?utm_source=created-in-deepnote-cell&projectId=b01381d9-6e40-4ad5-b07b-efdf9b194644' target=\"_blank\">\n<img alt='Created in deepnote.com' style='display:inline;max-height:16px;margin:0px;margin-right:7.5px;' src='data:image/svg+xml;base64,PD94bWwgdmVyc2lvbj0iMS4wIiBlbmNvZGluZz0iVVRGLTgiPz4KPHN2ZyB3aWR0aD0iODBweCIgaGVpZ2h0PSI4MHB4IiB2aWV3Qm94PSIwIDAgODAgODAiIHZlcnNpb249IjEuMSIgeG1sbnM9Imh0dHA6Ly93d3cudzMub3JnLzIwMDAvc3ZnIiB4bWxuczp4bGluaz0iaHR0cDovL3d3dy53My5vcmcvMTk5OS94bGluayI+CiAgICA8IS0tIEdlbmVyYXRvcjogU2tldGNoIDU0LjEgKDc2NDkwKSAtIGh0dHBzOi8vc2tldGNoYXBwLmNvbSAtLT4KICAgIDx0aXRsZT5Hcm91cCAzPC90aXRsZT4KICAgIDxkZXNjPkNyZWF0ZWQgd2l0aCBTa2V0Y2guPC9kZXNjPgogICAgPGcgaWQ9IkxhbmRpbmciIHN0cm9rZT0ibm9uZSIgc3Ryb2tlLXdpZHRoPSIxIiBmaWxsPSJub25lIiBmaWxsLXJ1bGU9ImV2ZW5vZGQiPgogICAgICAgIDxnIGlkPSJBcnRib2FyZCIgdHJhbnNmb3JtPSJ0cmFuc2xhdGUoLTEyMzUuMDAwMDAwLCAtNzkuMDAwMDAwKSI+CiAgICAgICAgICAgIDxnIGlkPSJHcm91cC0zIiB0cmFuc2Zvcm09InRyYW5zbGF0ZSgxMjM1LjAwMDAwMCwgNzkuMDAwMDAwKSI+CiAgICAgICAgICAgICAgICA8cG9seWdvbiBpZD0iUGF0aC0yMCIgZmlsbD0iIzAyNjVCNCIgcG9pbnRzPSIyLjM3NjIzNzYyIDgwIDM4LjA0NzY2NjcgODAgNTcuODIxNzgyMiA3My44MDU3NTkyIDU3LjgyMTc4MjIgMzIuNzU5MjczOSAzOS4xNDAyMjc4IDMxLjY4MzE2ODMiPjwvcG9seWdvbj4KICAgICAgICAgICAgICAgIDxwYXRoIGQ9Ik0zNS4wMDc3MTgsODAgQzQyLjkwNjIwMDcsNzYuNDU0OTM1OCA0Ny41NjQ5MTY3LDcxLjU0MjI2NzEgNDguOTgzODY2LDY1LjI2MTk5MzkgQzUxLjExMjI4OTksNTUuODQxNTg0MiA0MS42NzcxNzk1LDQ5LjIxMjIyODQgMjUuNjIzOTg0Niw0OS4yMTIyMjg0IEMyNS40ODQ5Mjg5LDQ5LjEyNjg0NDggMjkuODI2MTI5Niw0My4yODM4MjQ4IDM4LjY0NzU4NjksMzEuNjgzMTY4MyBMNzIuODcxMjg3MSwzMi41NTQ0MjUgTDY1LjI4MDk3Myw2Ny42NzYzNDIxIEw1MS4xMTIyODk5LDc3LjM3NjE0NCBMMzUuMDA3NzE4LDgwIFoiIGlkPSJQYXRoLTIyIiBmaWxsPSIjMDAyODY4Ij48L3BhdGg+CiAgICAgICAgICAgICAgICA8cGF0aCBkPSJNMCwzNy43MzA0NDA1IEwyNy4xMTQ1MzcsMC4yNTcxMTE0MzYgQzYyLjM3MTUxMjMsLTEuOTkwNzE3MDEgODAsMTAuNTAwMzkyNyA4MCwzNy43MzA0NDA1IEM4MCw2NC45NjA0ODgyIDY0Ljc3NjUwMzgsNzkuMDUwMzQxNCAzNC4zMjk1MTEzLDgwIEM0Ny4wNTUzNDg5LDc3LjU2NzA4MDggNTMuNDE4MjY3Nyw3MC4zMTM2MTAzIDUzLjQxODI2NzcsNTguMjM5NTg4NSBDNTMuNDE4MjY3Nyw0MC4xMjg1NTU3IDM2LjMwMzk1NDQsMzcuNzMwNDQwNSAyNS4yMjc0MTcsMzcuNzMwNDQwNSBDMTcuODQzMDU4NiwzNy43MzA0NDA1IDkuNDMzOTE5NjYsMzcuNzMwNDQwNSAwLDM3LjczMDQ0MDUgWiIgaWQ9IlBhdGgtMTkiIGZpbGw9IiMzNzkzRUYiPjwvcGF0aD4KICAgICAgICAgICAgPC9nPgogICAgICAgIDwvZz4KICAgIDwvZz4KPC9zdmc+' > </img>\nCreated in <span style='font-weight:600;margin-left:4px;'>Deepnote</span></a>",
   "metadata": {
    "tags": [],
    "created_in_deepnote_cell": true,
    "deepnote_cell_type": "markdown"
   }
  }
 ],
 "nbformat": 4,
 "nbformat_minor": 2,
 "metadata": {
  "orig_nbformat": 2,
  "deepnote": {},
  "deepnote_notebook_id": "c76768a6-e96b-4a34-ae56-8392cc4eb1d2",
  "deepnote_execution_queue": []
 }
}